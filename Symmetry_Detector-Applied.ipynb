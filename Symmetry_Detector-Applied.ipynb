{
 "cells": [
  {
   "cell_type": "markdown",
   "id": "concerned-berlin",
   "metadata": {},
   "source": [
    "# Pasos Previos"
   ]
  },
  {
   "cell_type": "markdown",
   "id": "prompt-glucose",
   "metadata": {},
   "source": [
    "## Libaries"
   ]
  },
  {
   "cell_type": "code",
   "execution_count": 1,
   "id": "superior-washer",
   "metadata": {},
   "outputs": [
    {
     "data": {
      "text/html": [
       "<style>.container { width:100% !important; } div.cell.selected {border-left-width: 10px !important;}</style>"
      ],
      "text/plain": [
       "<IPython.core.display.HTML object>"
      ]
     },
     "metadata": {},
     "output_type": "display_data"
    },
    {
     "name": "stdout",
     "output_type": "stream",
     "text": [
      "Notebook directory: /home/gabriel/Desktop\n",
      "Imported featurewiz: advanced feature engg and selection library. Version=0.0.42\n",
      "output = featurewiz(dataname, target, corr_limit=0.70,\n",
      "                    verbose=2, sep=',', header=0, test_data='',\n",
      "                    feature_engg='', category_encoders='')\n",
      "Create new features via 'feature_engg' flag : ['interactions','groupby','target']\n",
      "                                \n"
     ]
    }
   ],
   "source": [
    "#Importar Librerías\n",
    " \n",
    "from IPython.core.display import display, HTML, clear_output\n",
    "display(HTML(\"<style>.container { width:100% !important; } div.cell.selected {border-left-width: 10px !important;}</style>\"))\n",
    "import shutil\n",
    "import random\n",
    "import glob\n",
    "from sympy import *\n",
    "import os\n",
    "import datetime\n",
    "import pandas as pd\n",
    "import numpy as np\n",
    "import seaborn as sns\n",
    "import matplotlib.pyplot as plt\n",
    "import plotly.express as px\n",
    "import itertools as it\n",
    "from PIL import Image\n",
    "from IPython.display import clear_output\n",
    "import random\n",
    "if not 'notebook_dir' in globals():\n",
    "    notebook_dir = os.getcwd()\n",
    "print('Notebook directory: ' + notebook_dir)\n",
    "os.chdir(notebook_dir)  # If you change the current working dir, this will take you back to the workbook dir.\n",
    "top_dir = notebook_dir\n",
    "from fastai.tabular.all import *\n",
    "from skimage import data\n",
    "from skimage.filters import threshold_multiotsu\n",
    "import inspect\n",
    "from sklearn.manifold import TSNE\n",
    "from sklearn import decomposition\n",
    "#from sklearn.preprocessing import scaled\n",
    "from sklearn.decomposition import PCA\n",
    "from sklearn.preprocessing import StandardScaler\n",
    "from sklearn.ensemble import RandomForestRegressor\n",
    "import more_itertools\n",
    "from sklearn.manifold import TSNE\n",
    "import cv2\n",
    "import plotly.express as px\n",
    "from plotly.subplots import make_subplots\n",
    "import plotly.graph_objects as go\n",
    "import imutils\n",
    "#from time import time\n",
    "from featurewiz import featurewiz\n",
    "import time\n",
    "from zipfile import ZipFile\n",
    "from io import BytesIO\n",
    "import urllib.request as urllib2\n",
    "from urllib.error import HTTPError\n",
    "#init_printing() # Numeros más bonitos"
   ]
  },
  {
   "cell_type": "markdown",
   "id": "designing-sixth",
   "metadata": {},
   "source": [
    "## Functions"
   ]
  },
  {
   "cell_type": "code",
   "execution_count": 2,
   "id": "fancy-collins",
   "metadata": {},
   "outputs": [],
   "source": [
    "def potential_df(symmetry = 'None', with_z = False):\n",
    "\n",
    "    # Generar un solo potencial, pero le tienes que decir la simetría que \n",
    "    # quieres que tenga. por defecto pondrá sin simetría.\n",
    "\n",
    "    [x_min,x_max]=  [-1,1]\n",
    "    [y_min,y_max]= [-1,1]\n",
    "    [z_min,z_max] = [-1,1]\n",
    "    x_num = 100 # Number of values given to x\n",
    "    y_num = 100 # Number of values given to y\n",
    "    z_num = 50 # Number of values given to y\n",
    "    # inputs es el resultado de emparejar cada x con todas las y\n",
    "    # Si x = [0,1,2] e y = [a,b], \n",
    "    # input = [[0,a],[0,b],[1,a],[1,b],[2,a],[2,b]]\n",
    "\n",
    "\n",
    "    max_power = 5\n",
    "    min_power = 1\n",
    "    count_powers = max_power-min_power+1\n",
    "\n",
    "    #Una función que te da un array de: [x,x^2,x^3...] entre min_power y max_power\n",
    "    def powers(var): \n",
    "        powers=[]\n",
    "        for i in range(min_power,max_power+1,1):\n",
    "            powers.append(var**i)\n",
    "        return powers\n",
    "\n",
    "    def V(x,y):\n",
    "        if symmetry=='continuous_rotation':\n",
    "            c_i_s = np.random.normal(0,1, size=( count_powers))\n",
    "            return np.dot(c_i_s,powers(np.sqrt(x**2+y**2)))\n",
    "\n",
    "        if symmetry=='none':\n",
    "            c_ij_s =  np.random.normal(0,1, size=(count_powers,count_powers))\n",
    "            res = np.array([np.dot(np.array(powers(np.array(x[i]))),np.matmul(c_ij_s,powers(y[i]))) for i in range(len(x_s))])\n",
    "            return res\n",
    "\n",
    "        if symmetry=='continuous_translation':\n",
    "            c_i_s = np.random.normal(0,1, size=( count_powers))\n",
    "            return np.dot(c_i_s,powers(np.random.normal(0,1)*x+np.random.normal(0,1)*y)) \n",
    "\n",
    "        if symmetry=='discrete_translation':\n",
    "            n_s=6\n",
    "            ni = np.random.choice([-1,1],n_s) * np.random.normal(5,3, n_s)\n",
    "            return ni[0]*np.sin(ni[1]*(x)+ni[2]*y) +ni[3]*np.cos(ni[4]*x + ni[5]*y)\n",
    "\n",
    "        if symmetry=='reflection':\n",
    "            c_ij_s =  np.random.normal(0,1, size=(count_powers,count_powers))\n",
    "            rn1 = np.random.normal(0,1)\n",
    "            rn2 = np.random.normal(0,1)\n",
    "            rn3 = np.random.normal(0,1)\n",
    "            rn4 = np.random.normal(0,1)\n",
    "            return np.array([np.dot(powers((rn1*x[i]**2+rn2*y[i]**2)), np.matmul(c_ij_s,powers(rn3*x[i]**2+rn4*y[i]**2))) for i in range(len(x_s))])\n",
    "\n",
    "\n",
    "    #write a data frame\n",
    "\n",
    "    if with_z == False:\n",
    "        inputs = np.array(list(it.product(np.linspace(x_min,x_max,x_num),np.linspace(y_min,y_max,y_num))))\n",
    "        #Usaremos estas x_s y estas y_s para calcularnos potenciales en cada punto\n",
    "        x_s , y_s = inputs.T #Separamos las parejas\n",
    "\n",
    "        gg = V(x_s,y_s)\n",
    "\n",
    "        data = {\n",
    "              'x':x_s,        \n",
    "              'y':y_s,\n",
    "              'V':V(x_s,y_s)\n",
    "              }\n",
    "\n",
    "        df = pd.DataFrame(data,columns=['x','y','V'])    \n",
    "\n",
    "    else:\n",
    "\n",
    "        # Hay que cambiar un  poco el procedimiento para acelerar el proceso y no \n",
    "        # calcular x_num*y_num*z_num valores del potencial sino solo x_num*y_num\n",
    "\n",
    "        inputs = np.array(list(it.product(np.linspace(x_min,x_max,x_num),np.linspace(y_min,y_max,y_num))))\n",
    "        #Usaremos estas x_s y estas y_s para calcularnos potenciales en cada punto\n",
    "        x_s , y_s = inputs.T #Separamos las parejas\n",
    "\n",
    "        V_temp = V(x_s,y_s)\n",
    "\n",
    "        V_vals = []\n",
    "\n",
    "        for v in V_temp:\n",
    "            V_vals.append([v]*z_num)\n",
    "\n",
    "        V_vals = np.array(V_vals).flatten()\n",
    "\n",
    "        inputs = np.array(list(it.product(np.linspace(x_min,x_max,x_num),np.linspace(y_min,y_max,y_num),np.linspace(z_min,z_max,z_num))))\n",
    "        #Usaremos estas x_s y estas y_s para calcularnos potenciales en cada punto\n",
    "        x_s , y_s, z_s = inputs.T #Separamos las parejas\n",
    "\n",
    "\n",
    "        data = {\n",
    "              'x':x_s,        \n",
    "              'y':y_s,\n",
    "              'z':z_s,\n",
    "              'V':V_vals\n",
    "              }\n",
    "\n",
    "        df = pd.DataFrame(data,columns=['x','y','z','V'])\n",
    "\n",
    "\n",
    "        # Para evitar divergencias y no dar tanta importancia a puntos donde el potencial es muy alto\n",
    "        # agrupamos los puntos del potencial en bines. Intentamos que haya un bin por \n",
    "        # punto del potencial, pero hay puntos en los que el potencial\n",
    "        # vale lo mismo. Agrupamos esos puntos en bines.\n",
    "\n",
    "    n_attempted_bins =  len(x_s)\n",
    "\n",
    "    binning = pd.qcut(df.V, q=n_attempted_bins,retbins=True,labels=False,duplicates='drop')\n",
    "    df['bin']=binning[0]\n",
    "    #n_actual_bins=len(binning[1])-1\n",
    "\n",
    "    # Es importante normalizar los bines, para que se pueda generalizar a cualquier potencial\n",
    "    df['bin']=df.bin/np.max(df.bin)\n",
    "\n",
    "    return df\n",
    "\n",
    "\n",
    "def my_interactions(df, numo_int, verbose = True):\n",
    "    columnas = list(np.array(df.columns))\n",
    "\n",
    "    # Cuadrados\n",
    "    for a in columnas:\n",
    "        name = a + '**2'\n",
    "        df[name] = df[a]**2\n",
    "\n",
    "    if verbose == True: print('All {} columns were squared'.format(len(columnas)))\n",
    "    if numo_int > len(columnas):\n",
    "        num_int = len(columnas)\n",
    "        if verbose == True: print('--> Number of variables smaller than num_int. Using all {} columns'.format(num_int))\n",
    "    else:\n",
    "        num_int = numo_int\n",
    "\n",
    "    columnas_cuad = list(np.array(df.columns))[len(columnas):]\n",
    "\n",
    "    # Lineales  ax + by\n",
    "    k = 0\n",
    "    #np.random.seed(int(time.time())+i)\n",
    "    r_sam = random.sample(columnas,num_int)\n",
    "    for a,i in zip(r_sam,range(num_int)):\n",
    "        for j in range(num_int-i-1):\n",
    "            #np.random.seed(int(time.time())+i+j)\n",
    "            ai = 2*np.random.rand()-1\n",
    "            #np.random.seed(int(time.time())+i+j+1)\n",
    "            bi = 2*np.random.rand()-1\n",
    "            df[str(ai)+a+'+'+str(bi)+r_sam[i+j+1]] = ai*df[a] + bi*df[r_sam[i+j+1]]\n",
    "            k+= 1\n",
    "            #print(a,r_sam[i+j+1])\n",
    "\n",
    "    if verbose == True: print('Total number of columns created by linear combination:',k)\n",
    "\n",
    "    if num_int > len(columnas_cuad):\n",
    "        num_int = len(columnas_cuad)\n",
    "    else:\n",
    "        num_int = num_int\n",
    "\n",
    "    # Lineales de cuadrados   ax^2 + by^2\n",
    "    k = 0\n",
    "    #np.random.seed(int(time.time())+i)\n",
    "    r_sam = random.sample(columnas_cuad,num_int)\n",
    "    for a,i in zip(r_sam,range(num_int)):\n",
    "        for j in range(num_int-i-1):\n",
    "            #np.random.seed(int(time.time())+i+j)\n",
    "            ai = 2*np.random.rand()-1\n",
    "            #np.random.seed(int(time.time())+i+j+1)\n",
    "            bi = 2*np.random.rand()-1\n",
    "            df[str(ai)+a+'+'+str(bi)+r_sam[i+j+1]] = ai*df[a] + bi*df[r_sam[i+j+1]]\n",
    "            k+= 1\n",
    "            #print(a,r_sam[i+j+1])\n",
    "\n",
    "    if verbose == True: print('Total number of columns created by linear combination of squared variables:',k)\n",
    "\n",
    "\n",
    "    # Productos de variables  axy\n",
    "    k = 0\n",
    "    #np.random.seed(int(time.time())+i)\n",
    "    r_sam = random.sample(columnas,num_int)\n",
    "    for a,i in zip(r_sam,range(num_int)):\n",
    "        for j in range(num_int-i-1):\n",
    "            #np.random.seed(int(time.time())+i+j)\n",
    "            ai = 2*np.random.rand()-1\n",
    "            df[str(ai)+a+'*'+r_sam[i+j+1]] = ai*df[a]*df[r_sam[i+j+1]]\n",
    "            k+= 1\n",
    "            #print(a,r_sam[i+j+1])\n",
    "\n",
    "    if verbose == True: print('Total number of columns created by products of variables:',k)\n",
    "\n",
    "\n",
    "    # Cociente de variables  ax/y\n",
    "    k = 0\n",
    "    #np.random.seed(int(time.time())+i)\n",
    "    r_sam = random.sample(columnas,num_int)\n",
    "    for a,i in zip(r_sam,range(num_int)):\n",
    "        for j in range(num_int-i-1):\n",
    "            #np.random.seed(int(time.time())+i+j)\n",
    "            ai = 2*np.random.rand()-1\n",
    "            df[str(ai)+a+'/'+r_sam[i+j+1]] = ai*df[a]/df[r_sam[i+j+1]]\n",
    "            k+= 1\n",
    "            #print(a,r_sam[i+j+1])\n",
    "\n",
    "    if verbose == True: print('Total number of columns created by quotient of variables:',k)\n",
    "\n",
    "    # Product of Random powers\n",
    "    k = 0\n",
    "    #np.random.seed(int(time.time())+i+1)\n",
    "    r_sam = random.sample(columnas,num_int)\n",
    "    for a,i in zip(r_sam,range(num_int)):\n",
    "        for j in range(num_int-i-1):\n",
    "            #np.random.seed(int(time.time())+i+j)\n",
    "            ai = 2*np.random.rand()-1\n",
    "            #np.random.seed(int(time.time())+i+j+1)\n",
    "            bi = 2*np.random.rand()-1\n",
    "            df[a+'^'+str(ai)+'*'+r_sam[i+j+1]+'^'+str(bi)] = df[a]**ai*df[r_sam[i+j+1]]**bi\n",
    "            k+= 1\n",
    "            #print(a,r_sam[i+j+1])\n",
    "\n",
    "    if verbose == True: print('Total number of columns created by product of variables with random powers:',k)\n",
    "\n",
    "    '''\n",
    "    # Exponenciación\n",
    "    k = 0\n",
    "    #np.random.seed(int(time.time())+i+1)\n",
    "    r_sam = random.sample(columnas+columnas_cuad,num_int*2)\n",
    "    for a,i in zip(r_sam,range(num_int*2)):\n",
    "        #np.random.seed(int(time.time())+i+j)\n",
    "        ai = 2*np.random.rand()-1    \n",
    "        df['exp('+a+')'] = ai*np.exp(df[a])\n",
    "        k+= 1\n",
    "\n",
    "    if verbose == True: print('Total number of columns created by exponentiation of variables and squares:',k)\n",
    "\n",
    "    # Logaritmos\n",
    "    k = 0\n",
    "    #np.random.seed(int(time.time())+i+1)\n",
    "    r_sam = random.sample(columnas,num_int)\n",
    "    for a,i in zip(r_sam,range(num_int)):\n",
    "        #np.random.seed(int(time.time())+i+j)\n",
    "        ai = 2*np.random.rand()-1    \n",
    "        df['log(abs('+a+'))'] = ai*np.log(np.abs(df[a]))\n",
    "        k+= 1\n",
    "        \n",
    "    if verbose == True: print('Total number of columns created by taking log of abs. variables:',k)\n",
    "    '''\n",
    "    \n",
    "    # Raices\n",
    "    k = 0\n",
    "    #np.random.seed(int(time.time())+i+1)\n",
    "    r_sam = random.sample(columnas,num_int)\n",
    "    for a,i in zip(r_sam,range(num_int)):\n",
    "        #np.random.seed(int(time.time())+i+j)\n",
    "        ai = 2*np.random.rand()-1    \n",
    "        df['sqrt(abs('+a+'))'] = ai*np.sqrt(np.abs(df[a]))\n",
    "        k+= 1\n",
    "        \n",
    "        \n",
    "    if verbose == True: print('Total number of columns created by taking the square root of abs. variables:',k)\n",
    "\n",
    "    if verbose == True: print('   Regularising...')\n",
    "    for a in df.columns:\n",
    "        df[a] = np.nan_to_num(df[a])\n",
    "\n",
    "\n",
    "\n",
    "    if verbose == True: print('\\n Total number of features:',len(list(np.array(df.columns))))\n",
    "    \n",
    "    \n",
    "    return df\n",
    "\n",
    "def my_interactions_small(df, numo_int, verbose = True):\n",
    "    columnas = list(np.array(df.columns))\n",
    "\n",
    "    # Cuadrados\n",
    "    for a in columnas:\n",
    "        name = a + '**2'\n",
    "        df[name] = df[a]**2\n",
    "\n",
    "    if verbose == True: print('All {} columns were squared'.format(len(columnas)))\n",
    "    if numo_int > len(columnas):\n",
    "        num_int = len(columnas)\n",
    "        if verbose == True: print('--> Number of variables smaller than num_int. Using all {} columns'.format(num_int))\n",
    "    else:\n",
    "        num_int = numo_int\n",
    "\n",
    "    columnas_cuad = list(np.array(df.columns))[len(columnas):]\n",
    "\n",
    "    '''    # Lineales  ax + by\n",
    "    k = 0\n",
    "    #np.random.seed(int(time.time())+i)\n",
    "    r_sam = random.sample(columnas,num_int)\n",
    "    for a,i in zip(r_sam,range(num_int)):\n",
    "        for j in range(num_int-i-1):\n",
    "            #np.random.seed(int(time.time())+i+j)\n",
    "            ai = 2*np.random.rand()-1\n",
    "            #np.random.seed(int(time.time())+i+j+1)\n",
    "            bi = 2*np.random.rand()-1\n",
    "            df[str(ai)+a+'+'+str(bi)+r_sam[i+j+1]] = ai*df[a] + bi*df[r_sam[i+j+1]]\n",
    "            k+= 1\n",
    "            #print(a,r_sam[i+j+1])\n",
    "\n",
    "    if verbose == True: print('Total number of columns created by linear combination:',k)\n",
    "\n",
    "        \n",
    "    # Lineales de cuadrados   ax^2 + by^2\n",
    "    k = 0\n",
    "    #np.random.seed(int(time.time())+i)\n",
    "    r_sam = random.sample(columnas_cuad,num_int)\n",
    "    for a,i in zip(r_sam,range(num_int)):\n",
    "        for j in range(num_int-i-1):\n",
    "            #np.random.seed(int(time.time())+i+j)\n",
    "            ai = 2*np.random.rand()-1\n",
    "            #np.random.seed(int(time.time())+i+j+1)\n",
    "            bi = 2*np.random.rand()-1\n",
    "            df[str(ai)+a+'+'+str(bi)+r_sam[i+j+1]] = ai*df[a] + bi*df[r_sam[i+j+1]]\n",
    "            k+= 1\n",
    "            #print(a,r_sam[i+j+1])\n",
    "\n",
    "    if verbose == True: print('Total number of columns created by linear combination of squared variables:',k)'''\n",
    "        \n",
    "        \n",
    "    # Lineales  ax + by\n",
    "    k = 0\n",
    "    #np.random.seed(int(time.time())+i)\n",
    "    r_sam = random.sample(columnas,num_int)\n",
    "    for a,i in zip(r_sam,range(num_int)):\n",
    "        for j in range(num_int-i-1):\n",
    "            #np.random.seed(int(time.time())+i+j)\n",
    "            ai = 1\n",
    "            #np.random.seed(int(time.time())+i+j+1)\n",
    "            bi = 1\n",
    "            df[str(ai)+a+'+'+str(bi)+r_sam[i+j+1]] = ai*df[a] + bi*df[r_sam[i+j+1]]\n",
    "            k+= 1\n",
    "            #print(a,r_sam[i+j+1])\n",
    "\n",
    "    if verbose == True: print('Total number of columns created by linear combination:',k)\n",
    "\n",
    "        \n",
    "    # Lineales de cuadrados   ax^2 + by^2\n",
    "    k = 0\n",
    "    #np.random.seed(int(time.time())+i)\n",
    "    r_sam = random.sample(columnas_cuad,num_int)\n",
    "    for a,i in zip(r_sam,range(num_int)):\n",
    "        for j in range(num_int-i-1):\n",
    "            #np.random.seed(int(time.time())+i+j)\n",
    "            ai = 1\n",
    "            #np.random.seed(int(time.time())+i+j+1)\n",
    "            bi = 1\n",
    "            df[str(ai)+a+'+'+str(bi)+r_sam[i+j+1]] = ai*df[a] + bi*df[r_sam[i+j+1]]\n",
    "            k+= 1\n",
    "            #print(a,r_sam[i+j+1])\n",
    "\n",
    "    if verbose == True: print('Total number of columns created by linear combination of squared variables:',k)\n",
    "        \n",
    "        \n",
    "    if num_int > len(columnas_cuad):\n",
    "        num_int = len(columnas_cuad)\n",
    "    else:\n",
    "        num_int = num_int\n",
    "\n",
    "    \n",
    "    if verbose == True: print('   Regularising...')\n",
    "    for a in df.columns:\n",
    "        df[a] = np.nan_to_num(df[a])\n",
    "\n",
    "\n",
    "\n",
    "    if verbose == True: print('\\n Total number of features:',len(list(np.array(df.columns))))\n",
    "    \n",
    "    \n",
    "    return df\n",
    "\n",
    "\n",
    "\n",
    "def fast_feat_imp_rf(df,target, graph = True):\n",
    "    \n",
    "    #Tiens un DataFrame con datos en columnas y un objetivo (target) que quieres predecir.\n",
    "    #target es un string que tiene que ser el nombre de la columna objetivo\n",
    "    \n",
    "    def rf(xs, y, n_estimators=100, max_samples=300,\n",
    "           max_features=0.8, min_samples_leaf=5, **kwargs):\n",
    "        return RandomForestRegressor(n_jobs=-1, n_estimators=n_estimators,\n",
    "            max_samples=max_samples, max_features=max_features,\n",
    "            min_samples_leaf=min_samples_leaf, oob_score=True).fit(xs, y)\n",
    "\n",
    "    # ----- Separar en data + targets -------#\n",
    "    xs = df.drop(target,axis = 1)\n",
    "    y = df[[target]]\n",
    "\n",
    "    # ----Modelo Random Forests ----#\n",
    "    m = rf(xs, y);\n",
    "    #print('Accuracy trainig = ', accu(m.predict(xs),y))\n",
    "\n",
    "    # Feature Importance usando Random Forests\n",
    "    def rf_feat_importance(m, df):\n",
    "        return pd.DataFrame({'cols':df.columns, 'imp':m.feature_importances_}\n",
    "                           ).sort_values('imp', ascending=False)\n",
    "\n",
    "    fi = rf_feat_importance(m, xs)\n",
    "\n",
    "    if graph == True:\n",
    "        fi.iloc[np.where(fi.imp > 0.01)].plot('cols', 'imp', 'barh', figsize=(12,7), legend=False)\n",
    "        plt.title('Feature Importance > 1%. Target = '+target,fontsize = 22)\n",
    "        plt.show()   \n",
    "    \n",
    "    return list(fi.cols), list(fi.imp)\n",
    "\n",
    "\n",
    "def mock_data(sym = 'reflection',num_bas = 5, plote = False, num_int = 10, verbose = True): \n",
    "    # ---------------------------- Opciones -----------------------------------#\n",
    "    \n",
    "    #num_bas = 5 # Numero de columnas random\n",
    "    #plote = False # Mostrar el potencial en gráficas\n",
    "    #num_int = 10 #Numero de columnas seleccionadas al azar que usamos para interacciones\n",
    "\n",
    "    #---------------------------------------------------------------------------#\n",
    "    # Generar Potencial\n",
    "\n",
    "    df = potential_df(symmetry = sym, with_z = False)\n",
    "    bins = df.bin # Objetivos: bin\n",
    "    df = df.drop('V',axis = 1)\n",
    "    df = df.drop('bin',axis = 1)\n",
    "\n",
    "    # Añadir columnas de basura\n",
    "    for i in range(num_bas):\n",
    "        #np.random.seed(int(time.time())+i)\n",
    "        name = 'r' + str(i)\n",
    "        df[name] = 2*np.random.rand(len(df.x))-1\n",
    "\n",
    "    if verbose == True: print('{} columns with random numbers between [-1,1] were created'.format(i+1))\n",
    "\n",
    "    if plote == True:\n",
    "        ax2 = plt.axes(projection='3d')\n",
    "        ax2.plot_trisurf(df.x, df.y, df.bin, linewidth=0.2, cmap = 'jet')\n",
    "        plt.title('bin(x,y)')\n",
    "        plt.show()\n",
    "        plt.figure()\n",
    "        plt.scatter(df.x,df.y,c = df.bin,marker = '.', lw = 5)\n",
    "        \n",
    "    df_fin = my_interactions(df,num_int, verbose = verbose)\n",
    "    df_fin['bin'] = bins\n",
    "    \n",
    "    return df_fin"
   ]
  },
  {
   "cell_type": "markdown",
   "id": "cathedral-advocacy",
   "metadata": {},
   "source": [
    "# Bases de datos!"
   ]
  },
  {
   "cell_type": "code",
   "execution_count": 3,
   "id": "hazardous-reminder",
   "metadata": {},
   "outputs": [],
   "source": [
    "# ----------------------------- Lectura Base de datos EES -----------------------------#\n",
    "link_db = 'https://www.ine.es/ftp/microdatos/salarial/datos_2018.zip'\n",
    "\n",
    "try:\n",
    "    r = urllib2.urlopen(link_db).read()\n",
    "    file = ZipFile(BytesIO(r))\n",
    "    salaries_csv = file.open('CSV/EES_2018.csv')\n",
    "\n",
    "    df = pd.read_csv(salaries_csv, sep = '\\t', low_memory=False)\n",
    "\n",
    "except HTTPError:\n",
    "    print('ERROR: Fichero no encontrado')\n",
    "\n",
    "\n",
    "df['SALTOTAL'] = df['SALBASE'] + df['COMSAL'] #Lo que cobra cada uno: Salario base + complementos\n",
    "\n",
    "\n",
    "\n",
    "# ---------------------------------------Embedding using Fastai -----------------------------#\n",
    "# Categorical variables --> Numerical Variables\n",
    "\n",
    "# Choice of features\n",
    "cont_names = ['JAP','HEXTRA','JSP1']\n",
    "cat_names = ['CNACE', 'CNO1', 'SEXO', 'TIPOPAIS','ESTU','NUTS1','ANOS2']\n",
    "\n",
    "\n",
    "splits = RandomSplitter(valid_pct=0)(range_of(df))\n",
    "\n",
    "to = TabularPandas(df,\n",
    "                procs=[Categorify,FillMissing],\n",
    "                cat_names = cat_names,\n",
    "                cont_names = cont_names,\n",
    "                y_names = 'SALTOTAL',\n",
    "                splits=splits)\n",
    "\n",
    "\n",
    "#equiv_CNACE = pd.DataFrame({'Cod_Num':list(to.xs['CNACE'].unique()),'Categ':list(dls.dsets['CNACE'].unique())}).sort_values(by = 'Categ')\n",
    "#equiv_CNO1 = pd.DataFrame({'Cod_Num':list(to.xs['CNO1'].unique()),'Categ':list(dls.dsets['CNO1'].unique())}).sort_values(by = 'Categ')\n",
    "\n",
    "df_e = pd.DataFrame(to.xs)\n",
    "df_e['SALTOTAL'] = to.y\n",
    "df_e = df_e.reset_index().drop('index', axis = 1)\n",
    "          \n"
   ]
  },
  {
   "cell_type": "code",
   "execution_count": 4,
   "id": "supposed-installation",
   "metadata": {
    "scrolled": true
   },
   "outputs": [
    {
     "name": "stdout",
     "output_type": "stream",
     "text": [
      "Keeping 10k points of the original DF\n",
      "First Feature importance\n",
      "Second Feature importance\n",
      "\n",
      " ----> Training with features CNO1 and JAP \n",
      "\n",
      "8000 batch size for training.\n",
      "\n",
      "Training FCNN with layers:  [50, 50, 50, 50, 50]\n",
      "Training for 150 epochs.\n",
      "Using lr_max =  0.01\n"
     ]
    },
    {
     "data": {
      "text/html": [],
      "text/plain": [
       "<IPython.core.display.HTML object>"
      ]
     },
     "metadata": {},
     "output_type": "display_data"
    },
    {
     "data": {
      "text/html": [],
      "text/plain": [
       "<IPython.core.display.HTML object>"
      ]
     },
     "metadata": {},
     "output_type": "display_data"
    },
    {
     "name": "stdout",
     "output_type": "stream",
     "text": [
      "\n",
      "PCA saved to:\n",
      "/home/gabriel/Desktop/PCAs_detector_DB/DB_1/DB_1_11637159349-1000_color_classes--_PCA.png\n",
      "\n",
      "\n",
      "1 PCA's made out of 10.\n",
      "\n",
      "0.1 minutes elapsed for 1 images.\n",
      "0.1 minutes average per image.\n",
      "1.2 minutes estimated left for 9 images.\n",
      "\n",
      "\n",
      "\n",
      "0.0 hours estimated left for 9 images.\n",
      "\n",
      "\n",
      "\n",
      "Keeping 10k points of the original DF\n",
      "First Feature importance\n",
      "Second Feature importance\n",
      "\n",
      " ----> Training with features CNO1 and JAP \n",
      "\n",
      "8000 batch size for training.\n",
      "\n",
      "Training FCNN with layers:  [50, 50, 50, 50, 50]\n",
      "Training for 150 epochs.\n",
      "Using lr_max =  0.01\n"
     ]
    },
    {
     "data": {
      "text/html": [],
      "text/plain": [
       "<IPython.core.display.HTML object>"
      ]
     },
     "metadata": {},
     "output_type": "display_data"
    },
    {
     "data": {
      "text/html": [],
      "text/plain": [
       "<IPython.core.display.HTML object>"
      ]
     },
     "metadata": {},
     "output_type": "display_data"
    },
    {
     "name": "stdout",
     "output_type": "stream",
     "text": [
      "\n",
      "PCA saved to:\n",
      "/home/gabriel/Desktop/PCAs_detector_DB/DB_1/DB_1_11637159354-1000_color_classes--_PCA.png\n",
      "\n",
      "\n",
      "2 PCA's made out of 10.\n",
      "\n",
      "0.2 minutes elapsed for 2 images.\n",
      "0.1 minutes average per image.\n",
      "0.9 minutes estimated left for 8 images.\n",
      "\n",
      "\n",
      "\n",
      "0.0 hours estimated left for 8 images.\n",
      "\n",
      "\n",
      "\n",
      "Keeping 10k points of the original DF\n",
      "First Feature importance\n",
      "Second Feature importance\n",
      "\n",
      " ----> Training with features CNO1 and JAP \n",
      "\n",
      "8000 batch size for training.\n",
      "\n",
      "Training FCNN with layers:  [50, 50, 50, 50, 50]\n",
      "Training for 150 epochs.\n",
      "Using lr_max =  0.01\n"
     ]
    },
    {
     "data": {
      "text/html": [],
      "text/plain": [
       "<IPython.core.display.HTML object>"
      ]
     },
     "metadata": {},
     "output_type": "display_data"
    },
    {
     "data": {
      "text/html": [],
      "text/plain": [
       "<IPython.core.display.HTML object>"
      ]
     },
     "metadata": {},
     "output_type": "display_data"
    },
    {
     "name": "stdout",
     "output_type": "stream",
     "text": [
      "\n",
      "PCA saved to:\n",
      "/home/gabriel/Desktop/PCAs_detector_DB/DB_1/DB_1_11637159360-1000_color_classes--_PCA.png\n",
      "\n",
      "\n",
      "3 PCA's made out of 10.\n",
      "\n",
      "0.3 minutes elapsed for 3 images.\n",
      "0.1 minutes average per image.\n",
      "0.7 minutes estimated left for 7 images.\n",
      "\n",
      "\n",
      "\n",
      "0.0 hours estimated left for 7 images.\n",
      "\n",
      "\n",
      "\n",
      "Keeping 10k points of the original DF\n",
      "First Feature importance\n",
      "Second Feature importance\n",
      "\n",
      " ----> Training with features CNO1 and JAP \n",
      "\n",
      "8000 batch size for training.\n",
      "\n",
      "Training FCNN with layers:  [50, 50, 50, 50, 50]\n",
      "Training for 150 epochs.\n",
      "Using lr_max =  0.01\n"
     ]
    },
    {
     "data": {
      "text/html": [],
      "text/plain": [
       "<IPython.core.display.HTML object>"
      ]
     },
     "metadata": {},
     "output_type": "display_data"
    },
    {
     "data": {
      "text/html": [],
      "text/plain": [
       "<IPython.core.display.HTML object>"
      ]
     },
     "metadata": {},
     "output_type": "display_data"
    },
    {
     "name": "stdout",
     "output_type": "stream",
     "text": [
      "\n",
      "PCA saved to:\n",
      "/home/gabriel/Desktop/PCAs_detector_DB/DB_1/DB_1_11637159365-1000_color_classes--_PCA.png\n",
      "\n",
      "\n",
      "4 PCA's made out of 10.\n",
      "\n",
      "0.4 minutes elapsed for 4 images.\n",
      "0.1 minutes average per image.\n",
      "0.6 minutes estimated left for 6 images.\n",
      "\n",
      "\n",
      "\n",
      "0.0 hours estimated left for 6 images.\n",
      "\n",
      "\n",
      "\n",
      "Keeping 10k points of the original DF\n",
      "First Feature importance\n",
      "Second Feature importance\n",
      "\n",
      " ----> Training with features CNO1 and JAP \n",
      "\n",
      "8000 batch size for training.\n",
      "\n",
      "Training FCNN with layers:  [50, 50, 50, 50, 50]\n",
      "Training for 150 epochs.\n",
      "Using lr_max =  0.01\n"
     ]
    },
    {
     "data": {
      "text/html": [],
      "text/plain": [
       "<IPython.core.display.HTML object>"
      ]
     },
     "metadata": {},
     "output_type": "display_data"
    },
    {
     "data": {
      "text/html": [],
      "text/plain": [
       "<IPython.core.display.HTML object>"
      ]
     },
     "metadata": {},
     "output_type": "display_data"
    },
    {
     "name": "stdout",
     "output_type": "stream",
     "text": [
      "\n",
      "PCA saved to:\n",
      "/home/gabriel/Desktop/PCAs_detector_DB/DB_1/DB_1_11637159370-1000_color_classes--_PCA.png\n",
      "\n",
      "\n",
      "5 PCA's made out of 10.\n",
      "\n",
      "0.5 minutes elapsed for 5 images.\n",
      "0.1 minutes average per image.\n",
      "0.5 minutes estimated left for 5 images.\n",
      "\n",
      "\n",
      "\n",
      "0.0 hours estimated left for 5 images.\n",
      "\n",
      "\n",
      "\n",
      "Keeping 10k points of the original DF\n",
      "First Feature importance\n",
      "Second Feature importance\n",
      "\n",
      " ----> Training with features CNO1 and JAP \n",
      "\n",
      "8000 batch size for training.\n",
      "\n",
      "Training FCNN with layers:  [50, 50, 50, 50, 50]\n",
      "Training for 150 epochs.\n",
      "Using lr_max =  0.01\n"
     ]
    },
    {
     "data": {
      "text/html": [],
      "text/plain": [
       "<IPython.core.display.HTML object>"
      ]
     },
     "metadata": {},
     "output_type": "display_data"
    },
    {
     "data": {
      "text/html": [],
      "text/plain": [
       "<IPython.core.display.HTML object>"
      ]
     },
     "metadata": {},
     "output_type": "display_data"
    },
    {
     "name": "stdout",
     "output_type": "stream",
     "text": [
      "\n",
      "PCA saved to:\n",
      "/home/gabriel/Desktop/PCAs_detector_DB/DB_1/DB_1_11637159376-1000_color_classes--_PCA.png\n",
      "\n",
      "\n",
      "6 PCA's made out of 10.\n",
      "\n",
      "0.6 minutes elapsed for 6 images.\n",
      "0.1 minutes average per image.\n",
      "0.4 minutes estimated left for 4 images.\n",
      "\n",
      "\n",
      "\n",
      "0.0 hours estimated left for 4 images.\n",
      "\n",
      "\n",
      "\n",
      "Keeping 10k points of the original DF\n",
      "First Feature importance\n",
      "Second Feature importance\n",
      "\n",
      " ----> Training with features CNO1 and JAP \n",
      "\n",
      "8000 batch size for training.\n",
      "\n",
      "Training FCNN with layers:  [50, 50, 50, 50, 50]\n",
      "Training for 150 epochs.\n",
      "Using lr_max =  0.01\n"
     ]
    },
    {
     "data": {
      "text/html": [],
      "text/plain": [
       "<IPython.core.display.HTML object>"
      ]
     },
     "metadata": {},
     "output_type": "display_data"
    },
    {
     "data": {
      "text/html": [],
      "text/plain": [
       "<IPython.core.display.HTML object>"
      ]
     },
     "metadata": {},
     "output_type": "display_data"
    },
    {
     "name": "stdout",
     "output_type": "stream",
     "text": [
      "\n",
      "PCA saved to:\n",
      "/home/gabriel/Desktop/PCAs_detector_DB/DB_1/DB_1_11637159381-1000_color_classes--_PCA.png\n",
      "\n",
      "\n",
      "7 PCA's made out of 10.\n",
      "\n",
      "0.7 minutes elapsed for 7 images.\n",
      "0.1 minutes average per image.\n",
      "0.3 minutes estimated left for 3 images.\n",
      "\n",
      "\n",
      "\n",
      "0.0 hours estimated left for 3 images.\n",
      "\n",
      "\n",
      "\n",
      "Keeping 10k points of the original DF\n",
      "First Feature importance\n",
      "Second Feature importance\n",
      "\n",
      " ----> Training with features CNO1 and JAP \n",
      "\n",
      "8000 batch size for training.\n",
      "\n",
      "Training FCNN with layers:  [50, 50, 50, 50, 50]\n",
      "Training for 150 epochs.\n",
      "Using lr_max =  0.01\n"
     ]
    },
    {
     "data": {
      "text/html": [],
      "text/plain": [
       "<IPython.core.display.HTML object>"
      ]
     },
     "metadata": {},
     "output_type": "display_data"
    },
    {
     "data": {
      "text/html": [],
      "text/plain": [
       "<IPython.core.display.HTML object>"
      ]
     },
     "metadata": {},
     "output_type": "display_data"
    },
    {
     "name": "stdout",
     "output_type": "stream",
     "text": [
      "\n",
      "PCA saved to:\n",
      "/home/gabriel/Desktop/PCAs_detector_DB/DB_1/DB_1_11637159386-1000_color_classes--_PCA.png\n",
      "\n",
      "\n",
      "8 PCA's made out of 10.\n",
      "\n",
      "0.8 minutes elapsed for 8 images.\n",
      "0.1 minutes average per image.\n",
      "0.2 minutes estimated left for 2 images.\n",
      "\n",
      "\n",
      "\n",
      "0.0 hours estimated left for 2 images.\n",
      "\n",
      "\n",
      "\n",
      "Keeping 10k points of the original DF\n",
      "First Feature importance\n",
      "Second Feature importance\n",
      "\n",
      " ----> Training with features CNO1 and JSP1 \n",
      "\n",
      "8000 batch size for training.\n",
      "\n",
      "Training FCNN with layers:  [50, 50, 50, 50, 50]\n",
      "Training for 150 epochs.\n",
      "Using lr_max =  0.01\n"
     ]
    },
    {
     "data": {
      "text/html": [],
      "text/plain": [
       "<IPython.core.display.HTML object>"
      ]
     },
     "metadata": {},
     "output_type": "display_data"
    },
    {
     "data": {
      "text/html": [],
      "text/plain": [
       "<IPython.core.display.HTML object>"
      ]
     },
     "metadata": {},
     "output_type": "display_data"
    },
    {
     "name": "stdout",
     "output_type": "stream",
     "text": [
      "\n",
      "PCA saved to:\n",
      "/home/gabriel/Desktop/PCAs_detector_DB/DB_1/DB_1_11637159392-1000_color_classes--_PCA.png\n",
      "\n",
      "\n",
      "9 PCA's made out of 10.\n",
      "\n",
      "0.8 minutes elapsed for 9 images.\n",
      "0.1 minutes average per image.\n",
      "0.1 minutes estimated left for 1 images.\n",
      "\n",
      "\n",
      "\n",
      "0.0 hours estimated left for 1 images.\n",
      "\n",
      "\n",
      "\n",
      "Keeping 10k points of the original DF\n",
      "First Feature importance\n",
      "Second Feature importance\n",
      "\n",
      " ----> Training with features CNO1 and JAP \n",
      "\n",
      "8000 batch size for training.\n",
      "\n",
      "Training FCNN with layers:  [50, 50, 50, 50, 50]\n",
      "Training for 150 epochs.\n",
      "Using lr_max =  0.01\n"
     ]
    },
    {
     "data": {
      "text/html": [],
      "text/plain": [
       "<IPython.core.display.HTML object>"
      ]
     },
     "metadata": {},
     "output_type": "display_data"
    },
    {
     "data": {
      "text/html": [],
      "text/plain": [
       "<IPython.core.display.HTML object>"
      ]
     },
     "metadata": {},
     "output_type": "display_data"
    },
    {
     "name": "stdout",
     "output_type": "stream",
     "text": [
      "\n",
      "PCA saved to:\n",
      "/home/gabriel/Desktop/PCAs_detector_DB/DB_1/DB_1_11637159397-1000_color_classes--_PCA.png\n",
      "\n",
      "\n",
      "10 PCA's made out of 10.\n",
      "\n",
      "0.9 minutes elapsed for 10 images.\n",
      "0.1 minutes average per image.\n",
      "0.0 minutes estimated left for 0 images.\n",
      "\n",
      "\n",
      "\n",
      "0.0 hours estimated left for 0 images.\n",
      "\n",
      "\n",
      "\n"
     ]
    }
   ],
   "source": [
    "target = 'SALTOTAL'  # Nombre de la variable que queremos predecir\n",
    "rep_todo = 10        # Veces que se repite todo el algoritmo. Cuantas más veces, más se acerca el promedio a la simetría\n",
    "nombre_carpeta = 'DB_1' # Nombre de la subcarpeta donde vamos a guardar las PCAs, dentro de la carpeta grande. Así podemos anazar al mismo tiempo varias bases de datos\n",
    "\n",
    "small = True # My Interactions Small (true) or complete (false): Función de interacciones. Small tiene menos combinaciones.\n",
    "\n",
    "\n",
    "# Tiempo en el que empezamos a ejecutar el código. Hay que importar time así porque existe el módulo time en fastai\n",
    "from time import time\n",
    "start_time = time()\n",
    "\n",
    "\n",
    "tags = [nombre_carpeta for i in range(rep_todo)]\n",
    "\n",
    "for rtd in range(rep_todo):\n",
    "    \n",
    "    df = df_e.copy() # df_e lo hemos creado antes, contiene todas las features que queremos analizar, con las categóricas cambiadas por números (embedding)\n",
    "    \n",
    "    from fastai.vision.all import *\n",
    "    from time import time\n",
    "    from IPython.utils import io\n",
    "\n",
    "    int_1 = False      #Interactions in Feature Importance 1 \n",
    "    int_2 = False      #Interactions in Feature Importance 2 \n",
    "    select_10k = True  #Keep only 10000 elements of the original DF\n",
    "\n",
    "    # ------------------- Folder PCA ------------------- #\n",
    "\n",
    "    folder = 'PCAs_detector_DB'       # Carpeta donde se guardan las subcarpetas con las PCAs\n",
    "\n",
    "    \n",
    "    # Si no hay, creamos ese directorio\n",
    "    dd = top_dir + '/' + folder\n",
    "    if not os.path.isdir(dd):\n",
    "        print('Creating directory:\\n',dd)\n",
    "        os.mkdir(dd)\n",
    "\n",
    "    dir = os.path.join(top_dir,folder)\n",
    "\n",
    "    \n",
    "    # ------------------- No prints al guardar mejor modelo (fastai) ------------------- # \n",
    "    # Solo hay un print que se ha eliminado del código original\n",
    "\n",
    "    class SaveModelCallback(TrackerCallback):\n",
    "        \"A `TrackerCallback` that saves the model's best during training and loads it at the end.\"\n",
    "        _only_train_loop = True\n",
    "        def __init__(self, monitor='valid_loss', comp=None, min_delta=0., fname='model', every_epoch=False, at_end=False,\n",
    "                     with_opt=False, reset_on_fit=True):\n",
    "            super().__init__(monitor=monitor, comp=comp, min_delta=min_delta, reset_on_fit=reset_on_fit)\n",
    "            assert not (every_epoch and at_end), \"every_epoch and at_end cannot both be set to True\"\n",
    "            # keep track of file path for loggers\n",
    "            self.last_saved_path = None\n",
    "            store_attr('fname,every_epoch,at_end,with_opt')\n",
    "\n",
    "        def _save(self, name): self.last_saved_path = self.learn.save(name, with_opt=self.with_opt)\n",
    "\n",
    "        def after_epoch(self):\n",
    "            \"Compare the value monitored to its best score and save if best.\"\n",
    "            if self.every_epoch: self._save(f'{self.fname}_{self.epoch}')\n",
    "            else: #every improvement\n",
    "                super().after_epoch()\n",
    "                if self.new_best:\n",
    "                    #print(f'Better model found at epoch {self.epoch} with {self.monitor} value: {self.best}.')\n",
    "                    self._save(f'{self.fname}')\n",
    "\n",
    "        def after_fit(self, **kwargs):\n",
    "            \"Load the best model.\"\n",
    "            if self.at_end: self._save(f'{self.fname}')\n",
    "            elif not self.every_epoch: self.learn.load(f'{self.fname}', with_opt=self.with_opt)\n",
    "\n",
    "    # ---------------- Definiciones previas e hiperparámetros ----------------- #\n",
    "\n",
    "    # Hyperparameters: \n",
    "    bs_choices = [50000]       # Batch Size\n",
    "    shape='pipe'               # Shape of the neural network\n",
    "    layers_choices = [5]       # Number of layers of the net. Default:10 or 5. Better results with 5.\n",
    "    neurons_choices = [50]    # Number of neurons per layer. Default:200, 100 or 50. Better results with 50.\n",
    "    epoch_choices = [150]      # Number of training epochs. Default:[100 -> 200]. Better results with 150.\n",
    "    lr_choices = [0.01]       # Max learning rate. Default 0.01.\n",
    "    valid_pct=0.2              # Part of the data that goes into validation (0.2 = 20%)\n",
    "    monitor= 'valid_loss'        # Te model with the least 'monitor' will be saved. Default: 'valid_loss'\n",
    "\n",
    "\n",
    "\n",
    "    # ---------------------- Entrenar Red Y PCA -----------------------------------#\n",
    "\n",
    "    j = 1 # Usaremos esto para saber cuantos potenciales hemos procesado, y como indice en general\n",
    "\n",
    "\n",
    "    #----------- Selecting just 10k values -------------#\n",
    "\n",
    "    if select_10k == True:\n",
    "        if len(df[target]) <= 100*100:\n",
    "            print('Too little data to keep 10k points and delete the rest')\n",
    "        else:\n",
    "            print('Keeping 10k points of the original DF')\n",
    "            remove_n = len(df[target]) - 10000\n",
    "            drop_indices = np.random.choice(df.index, remove_n, replace=False)\n",
    "            df_temp = df.drop(drop_indices)\n",
    "            df = df_temp.copy()\n",
    "\n",
    "\n",
    "    #----------- Feature Importance inicial -------------#\n",
    "    \n",
    "    print('First Feature importance')\n",
    "\n",
    "    small_df = df.copy()\n",
    "    \n",
    "    n_f = len(small_df)\n",
    "\n",
    "    \n",
    "    # Si queremos interacciones en todo el dataframe\n",
    "    if int_1 == True:\n",
    "\n",
    "        small_df = small_df.drop(target, axis = 1) # Drop the target\n",
    "        \n",
    "        # Interactions\n",
    "        if small == True: small_df = my_interactions_small(small_df.astype(np.float32), numo_int = int(len(small_df.columns)/2 + 1), verbose = True)\n",
    "        else: small_df = my_interactions(small_df.astype(np.float32), numo_int = int(len(small_df.columns)/2 + 1), verbose = True)\n",
    "\n",
    "        small_df[target] = df[target] # Return the target\n",
    "\n",
    "\n",
    "    #Feature Importance with Random Forests\n",
    "    best_feat, imp = fast_feat_imp_rf(small_df.astype(np.float32),target = target, graph = False)\n",
    "    # Correlation of the best variables between them\n",
    "    cm_rf = small_df[best_feat[:n_f]].corr()\n",
    "    \n",
    "    # Función que tiene en cuenta la importancia de las variables y la correlación con la primera más importante\n",
    "    corr_imp = np.exp(np.array(imp[:n_f]))*((1-np.abs(cm_rf.iloc[:,0])))\n",
    "    \n",
    "    # Dos mejores variables: La más importante y la que mejor puntúa en la función anterior\n",
    "    two_best = [best_feat[0],(corr_imp.iloc[1:].sort_values()).index[-1]]\n",
    "\n",
    "    small_df = small_df[two_best]\n",
    "\n",
    "\n",
    "\n",
    "    #----------- Second Feature Importance (si procede) -------------#\n",
    "    print('Second Feature importance')\n",
    "    \n",
    "\n",
    "    # Con las dos features que hemos seleccionado, podemos hacer muchas interacciones para ver si una combinación de ellas predice\n",
    "    # mejor el potencial que estas dos features solas. No suele funcionar muy bien para encontrar la simetría.\n",
    "    if int_2 == True:\n",
    "        n_f = 10\n",
    "        small_df = my_interactions(small_df.astype(np.float32), numo_int = len(small_df.columns), verbose = False)\n",
    "\n",
    "        small_df[target] = df[target]\n",
    "        best_feat, imp = fast_feat_imp_rf(small_df.astype(np.float32),target = target, graph = False)\n",
    "        cm_rf = small_df[best_feat[:n_f]].corr()\n",
    "\n",
    "        corr_imp = np.exp(np.array(imp[:n_f]))*((1-np.abs(cm_rf.iloc[:,0])))\n",
    "\n",
    "        two_best_2 = [best_feat[0],(corr_imp.iloc[1:].sort_values()).index[-1]]\n",
    "    else:\n",
    "        two_best_2 = two_best\n",
    "\n",
    "\n",
    "    small_df[target] = df[target] # Devolvemos el target otra vez\n",
    "  \n",
    "    print('\\n ----> Training with features {} and {} \\n'.format(two_best_2[0],two_best_2[1]))\n",
    "\n",
    "    df2 = small_df.copy() \n",
    "    \n",
    "    # Normalizamos por el valor más grande todas las features y el objetivo\n",
    "    df2[two_best_2[0]] = df2[two_best_2[0]]/np.max(np.abs(df2[two_best_2[0]]))\n",
    "    df2[two_best_2[1]] = df2[two_best_2[1]]/np.max(np.abs(df2[two_best_2[1]]))\n",
    "    df2[target] = df2[target]/np.max(np.abs(df2[target]))\n",
    "\n",
    "    splits = RandomSplitter(valid_pct=valid_pct)(range_of(df2))\n",
    "\n",
    "    to = TabularPandas(df2,\n",
    "                    procs=[Categorify,FillMissing, Normalize],\n",
    "                    cont_names = two_best_2,\n",
    "                    y_names = target,\n",
    "                    splits=splits)\n",
    "\n",
    "    train_size = len(splits[0])\n",
    "    valid_size = len(splits[1])\n",
    "\n",
    "    # ----------------- Hyperparameters ------------------- #\n",
    "\n",
    "    # Batch Size (a large one)\n",
    "    bs=min(random.choice(bs_choices),train_size)  \n",
    "    print('{} batch size for training.\\n'.format(bs))\n",
    "\n",
    "    # Neurons per layer\n",
    "    neurons_per_layer = random.choice(neurons_choices)\n",
    "\n",
    "    # Number of layers\n",
    "    n_layers = random.choice(layers_choices)\n",
    "\n",
    "    #Shape of the net: Pipe or funnel\n",
    "    if shape == 'pipe':\n",
    "        layers=[neurons_per_layer for i in range(n_layers)]\n",
    "\n",
    "    if shape == 'funnel':\n",
    "        n_eff = n_layers\n",
    "        layers = np.clip(sum([[2**(n_layers-i+2)] for i in range(0,n_layers,1)],[]),2,neurons_per_layer).tolist()\n",
    "\n",
    "    print('Training FCNN with layers: ',layers)\n",
    "\n",
    "    #Number of epochs\n",
    "    n_epoch=random.choice(epoch_choices)\n",
    "    print('Training for {} epochs.'.format(n_epoch))\n",
    "\n",
    "    # Maximum Learning Rate: (a good value can be found using learn.lr_find())\n",
    "    lr_max=float(random.choice(lr_choices))\n",
    "    print('Using lr_max = ',format(lr_max))\n",
    "\n",
    "    # ----------------------------------------------------- #\n",
    "\n",
    "    # --------------- Training the FCNN --------------------#\n",
    "\n",
    "    # Load the data into a DataLoader\n",
    "    dls = to.dataloaders(bs=bs)\n",
    "\n",
    "    # Define a Tabular Learner\n",
    "    learn = tabular_learner(dls, layers=layers\n",
    "                        #,config=config\n",
    "                        #,metrics=[mse],\n",
    "                        #y_range = [min(df[target]),max(df[target])],\n",
    "                        #,cbs=ShowGraphCallback()\n",
    "                        #,train_bn=False)\n",
    "                        )\n",
    "\n",
    "    # Train the net \n",
    "    with learn.no_logging():\n",
    "        learn.fit_one_cycle(n_epoch=n_epoch\n",
    "                            ,lr_max=lr_max\n",
    "                            ,cbs=[SaveModelCallback(monitor=monitor)]\n",
    "                            )\n",
    "\n",
    "\n",
    "    # ------------------------------------------------------#\n",
    "\n",
    "\n",
    "    # ------------------------- PCA ------------------------#\n",
    "\n",
    "    test_df = df2.copy()\n",
    "    dl = learn.dls.test_dl(test_df,bs=int(test_df.shape[0])) \n",
    "\n",
    "    # Tenemos que hacer un Hook, una especie de gancho que enganchamos en la última capa interna,\n",
    "    # para guardar, de cada modelo, los valores de los parámetro de dicha capa. \n",
    "    with Hooks(learn.model.layers, lambda m,i,o: o) as h:\n",
    "        preds = learn.get_preds(dl=dl,with_input=True,with_decoded=True,with_loss=True)\n",
    "\n",
    "    targets=preds[2].numpy().flatten()\n",
    "\n",
    "    # Cogemos la información de la penúltima capa\n",
    "    # OJO: Si añadimos y_range, se añade automaticamente una sigmoid\n",
    "    # al final, por lo que tendríamos que coger la capa -3 en vez de la -2\n",
    "    act = h.stored[-2] \n",
    "    multi_dim=Tensor.cpu(act).numpy()\n",
    "    standardized=StandardScaler().fit_transform(multi_dim)\n",
    "\n",
    "    viz = PCA(2).fit_transform(np.nan_to_num(standardized))\n",
    "    #plt.figure()\n",
    "    #plt.scatter(viz[:, 0], viz[:, 1],c=targets[:multi_dim.shape[0]],alpha=.1, marker = 'o')\n",
    "\n",
    "\n",
    "    # ------------------------------------------------------ #\n",
    "\n",
    "    # ------------------ Saving the PCA's ------------------ #\n",
    "\n",
    "    # ---- Dar formato a PCA para guardar como imagen con color\n",
    "\n",
    "    viz = pd.DataFrame(viz) #Transformamos la PCA en un dataframe\n",
    "    viz.columns = ['x','y'] #Nombres de las columnas\n",
    "\n",
    "    # Insertamos una columna con los colores de los puntos. El valor del potencial\n",
    "    # objetivo (targets) es el color, y hay un color por cada punto \n",
    "    viz.insert(2,'class',targets[:multi_dim.shape[0]]) \n",
    "\n",
    "    # ---- Personalizar mapa de color \n",
    "\n",
    "    n_classes=1000\n",
    "\n",
    "    colors = 'rainbow'\n",
    "\n",
    "    if colors == 'rainbow':\n",
    "        my_cmap = plt.cm.get_cmap('rainbow', n_classes)\n",
    "        classes_in_rgb = my_cmap(range(n_classes))\n",
    "    if colors == 'purple':\n",
    "        my_cmap = plt.cm.get_cmap('rainbow', n_classes)\n",
    "        classes_in_rgb = np.vstack((np.array([0,0,0,0]),my_cmap([0 for i in range(n_classes)])))\n",
    "\n",
    "    # ---- Hacer que la intensidad del pixel represente la cantidad de puntos \n",
    "    #      acumuldos en un pixel\n",
    "\n",
    "    n_pixels = 224\n",
    "\n",
    "    binning_3d=np.histogramdd([viz['x'],viz['y'],viz['class']],range=(None,None,(0,1)), bins=(n_pixels,n_pixels,n_classes))\n",
    "\n",
    "    #if we want the pixel intensity to reprensent the number of points at that location\n",
    "    array = np.dot(binning_3d[0],classes_in_rgb)\n",
    "    array = array/np.amax(array)\n",
    "\n",
    "    # ---- Guardar la PCA\n",
    "\n",
    "    #Directorio donde guardaremos las imagenes\n",
    "    dir_sym = os.path.join(dir,tags[j-1])\n",
    "    if not os.path.isdir(dir_sym):\n",
    "        print('Creating directory:\\n',dir_sym)\n",
    "        os.mkdir(dir_sym)\n",
    "\n",
    "\n",
    "    # Nombre de la imagen. Pongo el tiempo para que todas se llamen distinto cada vez.\n",
    "    img_file = str(tags[j-1])+'_'+str(j)+str(round(time()))+'-'+str(n_classes)+'_'+'color_classes--'+'_PCA.png' \n",
    "    output_dir = os.path.join(dir_sym,img_file) # Directorio donde guardamos la imagen\n",
    "    plt.imsave(output_dir,array) # Guardar\n",
    "    print('\\nPCA saved to:\\n{}\\n'.format(dir_sym+'/'+img_file))\n",
    "\n",
    "    # ------------------------ Time -------------------------#\n",
    "\n",
    "    minutes_until_now = (time() - start_time)/60\n",
    "    images_done = j+rtd\n",
    "    minutes_per_image = minutes_until_now/(images_done)\n",
    "    hours_left = minutes_per_image * (rep_todo-images_done)/60\n",
    "    print(\"\\n{} PCA's made out of {}.\\n\".format(images_done,rep_todo))\n",
    "    print(\"{:.1f} minutes elapsed for {} images.\".format(minutes_until_now,images_done))\n",
    "    print(\"{:.1f} minutes average per image.\".format(minutes_until_now/images_done))\n",
    "    print(\"{:.1f} minutes estimated left for {} images.\\n\\n\\n\".format(hours_left*60,rep_todo-images_done))\n",
    "    print(\"{:.1f} hours estimated left for {} images.\\n\\n\\n\".format(hours_left,rep_todo-images_done))\n",
    "    j+=1\n",
    "\n",
    "\n",
    "  # ------------------------------------------------------#"
   ]
  },
  {
   "cell_type": "code",
   "execution_count": 5,
   "id": "disturbed-borough",
   "metadata": {},
   "outputs": [
    {
     "data": {
      "text/html": [
       "<style>.container { width:100% !important; } div.cell.selected {border-left-width: 0px !important;}</style>"
      ],
      "text/plain": [
       "<IPython.core.display.HTML object>"
      ]
     },
     "metadata": {},
     "output_type": "display_data"
    },
    {
     "name": "stdout",
     "output_type": "stream",
     "text": [
      "Notebook directory: /home/gabriel/Desktop\n",
      "Numero Imagenes: 20\n",
      "['DB_1']\n",
      "['continuous_rotation', 'continuous_translation', 'discrete_translation', 'none', 'reflection']\n",
      "[6.11179345e-03 4.34291058e-08 3.99198455e-09 7.34917721e-06\n",
      " 9.93880811e-01]\n"
     ]
    },
    {
     "data": {
      "image/png": "[encoded data removed]",
      "text/plain": [
       "<Figure size 288x216 with 1 Axes>"
      ]
     },
     "metadata": {
      "image/png": {
       "height": 336,
       "width": 260
      },
      "needs_background": "light"
     },
     "output_type": "display_data"
    }
   ],
   "source": [
    "nom_carp = 'PCAs_detector_DB'\n",
    "\n",
    "#import libraries\n",
    "%config InlineBackend.figure_format = 'retina'\n",
    "import seaborn as sns\n",
    "from IPython.core.display import display, HTML, clear_output\n",
    "display(HTML(\"<style>.container { width:100% !important; } div.cell.selected {border-left-width: 0px !important;}</style>\"))\n",
    "\n",
    "from time import time\n",
    "import os\n",
    "import glob\n",
    "from fastai.vision.all import *\n",
    "import numpy as np\n",
    "from IPython.display import clear_output\n",
    "import itertools as it\n",
    "import more_itertools\n",
    "#import torchvision.models\n",
    "import plotly.express as px\n",
    "from plotly.subplots import make_subplots\n",
    "import plotly.graph_objects as go\n",
    "import plotly.io as pio\n",
    "pio.templates.default =\"none\"\n",
    "import base64\n",
    "from PIL import Image\n",
    "from io import BytesIO\n",
    "import torch\n",
    "import gc\n",
    "#import libraries\n",
    "\n",
    "if not 'notebook_dir' in globals():\n",
    "    notebook_dir = os.getcwd()\n",
    "print('Notebook directory: ' + notebook_dir)\n",
    "os.chdir(notebook_dir)  # If you changed the current working dir, this will take you back to the workbook dir.\n",
    "top_dir = notebook_dir\n",
    "\n",
    "\n",
    "\n",
    "learn = load_learner('/home/gabriel/Desktop/models/model_90_accu_resnet18_one_cycle_10+5_no_mixup'+'.pkl', cpu=False)\n",
    "     \n",
    "\n",
    "#Reset Registro\n",
    "\n",
    "registro = pd.DataFrame({\n",
    "    'Col_Quit':[0], 'Run':[0],\n",
    "    'continuous_rotation':[0], 'continuous_translation':[0], 'discrete_translation':[0], 'none':[0], 'reflection':[0]\n",
    "})\n",
    "registro = registro.drop(0)\n",
    "#registro\n",
    "\n",
    "sims = pd.DataFrame(columns = learn.dls.vocab)\n",
    "errs = sims.copy()\n",
    "\n",
    "num_img_cat = [] #guardo el numero de imagenes de cada categoria\n",
    "i = 0\n",
    "plote = False\n",
    "\n",
    "from IPython.utils import io\n",
    "\n",
    "\n",
    "\n",
    "for dires in np.sort(Path('/home/gabriel/Desktop/' + nom_carp).ls()):\n",
    "    #path = Path('/home/gabriel/Desktop/PCA_INE_sexo/INE/'+quitadas)\n",
    "    quitadas = str(dires).split('/')[-1]\n",
    "    with io.capture_output() as captured:\n",
    "        for ima in dires.ls():\n",
    "\n",
    "            test_im_dir = ima\n",
    "\n",
    "            im = PILImage.create(test_im_dir)\n",
    "\n",
    "            # Orden: ['continuous_rotation', 'continuous_translation', 'discrete_translation', 'none', 'reflection']\n",
    "\n",
    "            cate, num_cat, probs = learn.predict(im)\n",
    "\n",
    "\n",
    "            '''\n",
    "            if plote == True:\n",
    "                plt.figure\n",
    "                plt.figure(figsize=(4, 3))\n",
    "                plt.title(ima)\n",
    "                plt.bar(['continuous_rotation', 'continuous_translation', 'discrete_translation', 'none', 'reflection'],probs)\n",
    "                plt.xticks(rotation='vertical',fontsize = 12)\n",
    "                plt.show()\n",
    "            '''\n",
    "\n",
    "            new_row = np.array([quitadas, i] + list(np.array(probs).astype(float))).reshape([1,-1])\n",
    "            aden = pd.DataFrame(new_row,columns=registro.columns)\n",
    "\n",
    "            registro = registro.append(aden, ignore_index=True)\n",
    "\n",
    "            i+=1\n",
    "\n",
    "    registro = registro.astype({\n",
    "        'Col_Quit':str, 'Run':int,\n",
    "        'continuous_rotation':float, 'continuous_translation':float, 'discrete_translation':float, 'none':float, 'reflection':float\n",
    "    })  \n",
    "\n",
    "    print('Numero Imagenes:',i)\n",
    "    num_img_cat.append(i)\n",
    "\n",
    "\n",
    "\n",
    "#registro.to_csv(r'/home/gabriel/Desktop/PCA_INE_salarios/registro_'+modelo+'.csv', index = False)\n",
    "print(registro['Col_Quit'].unique())\n",
    "\n",
    "#registro = pd.read_csv('/home/gabriel/Desktop/PCA_INE_sexo/registro.csv')\n",
    "\n",
    "nombres_carps = registro['Col_Quit'].unique() #Nombres de las carpetas donde estan guyardadas las pcas de un tipo\n",
    "num_carps = len(nombres_carps)\n",
    "i = 0\n",
    "\n",
    "for nom in nombres_carps:\n",
    "    if i == 0:\n",
    "        m_probs = np.array(registro.iloc[:num_img_cat[0],2:].mean())\n",
    "        err_probs = np.array(registro.iloc[:num_img_cat[0],2:].std())\n",
    "        nume = str(len(registro.iloc[:num_img_cat[0],2:]))\n",
    "        print(learn.dls.vocab)\n",
    "        print(m_probs)\n",
    "        sims = sims.append(pd.DataFrame([m_probs], columns = sims.columns),ignore_index = True)\n",
    "        errs = errs.append(pd.DataFrame([err_probs/np.sqrt(float(nume))], columns = errs.columns),ignore_index = True)\n",
    "    else:\n",
    "        m_probs = np.array(registro.iloc[num_img_cat[i-1]:num_img_cat[i],2:].mean())\n",
    "        err_probs = np.array(registro.iloc[num_img_cat[i-1]:num_img_cat[i],2:].std())\n",
    "        nume = str(len(registro.iloc[num_img_cat[i-1]:num_img_cat[i],2:]))\n",
    "        print(m_probs)\n",
    "        sims = sims.append(pd.DataFrame([m_probs], columns = sims.columns),ignore_index = True)\n",
    "        errs = errs.append(pd.DataFrame([err_probs/np.sqrt(float(nume))], columns = errs.columns),ignore_index = True)\n",
    "\n",
    "    if nom == '-ninguna-':\n",
    "        tit = 'Promedio de '+nume+' PCAs sin quitar ninguna columna'\n",
    "    else:\n",
    "        tit = 'Promedio de '+nume+' PCAs. ID: '+ nom        \n",
    "\n",
    "    \n",
    "    plt.figure(figsize=(4, 3))\n",
    "    plt.title(tit)\n",
    "    #plt.title('Promedio de '+str(40)+' PCAs sin quitar ninguna columna')\n",
    "    plt.bar(['continuous_rotation', 'continuous_translation', 'discrete_translation', 'none', 'reflection'],\n",
    "            m_probs,yerr = err_probs/np.sqrt(float(nume)), capsize = 5)\n",
    "    plt.xticks(rotation='vertical',fontsize = 12)\n",
    "    plt.ylim([0, 1])\n",
    "    plt.show()\n",
    "    \n",
    "    i+=1"
   ]
  },
  {
   "cell_type": "code",
   "execution_count": 7,
   "id": "removable-error",
   "metadata": {},
   "outputs": [
    {
     "data": {
      "text/plain": [
       "<matplotlib.collections.PathCollection at 0x7f3d587e1290>"
      ]
     },
     "execution_count": 7,
     "metadata": {},
     "output_type": "execute_result"
    },
    {
     "data": {
      "image/png": "[encoded data removed]",
      "text/plain": [
       "<Figure size 432x288 with 1 Axes>"
      ]
     },
     "metadata": {
      "image/png": {
       "height": 248,
       "width": 381
      },
      "needs_background": "light"
     },
     "output_type": "display_data"
    }
   ],
   "source": [
    "plt.scatter(df_e.CNO1,df_e.JAP, c = np.log(df_e.SALTOTAL*100),marker = 'o')"
   ]
  },
  {
   "cell_type": "code",
   "execution_count": 15,
   "id": "liberal-thanksgiving",
   "metadata": {},
   "outputs": [
    {
     "data": {
      "text/plain": [
       "<AxesSubplot:>"
      ]
     },
     "execution_count": 15,
     "metadata": {},
     "output_type": "execute_result"
    },
    {
     "data": {
      "image/png": "[encoded data removed]",
      "text/plain": [
       "<Figure size 432x288 with 2 Axes>"
      ]
     },
     "metadata": {
      "image/png": {
       "height": 252,
       "width": 349
      },
      "needs_background": "light"
     },
     "output_type": "display_data"
    }
   ],
   "source": [
    "[x_min,x_max]=  [-1,1]\n",
    "[y_min,y_max]= [-1,1]\n",
    "x_num = 100 # Number of values given to x\n",
    "y_num = 100 # Number of values given to y\n",
    "\n",
    "inputs = np.array(list(it.product(np.linspace(x_min,x_max,x_num),np.linspace(y_min,y_max,y_num))))\n",
    "#Usaremos estas x_s y estas y_s para calcularnos potenciales en cada punto\n",
    "x_s , y_s = inputs.T #Separamos las parejas\n",
    "\n",
    "df_r = pd.DataFrame({'x':x_s,'y':y_s})\n",
    "\n",
    "df_r['x^2'] = df_r['x']**2\n",
    "df_r['y^2'] = df_r['y']**2\n",
    "\n",
    "sns.heatmap(np.abs(df_r.corr()), annot = True)"
   ]
  },
  {
   "cell_type": "code",
   "execution_count": 11,
   "id": "exceptional-london",
   "metadata": {
    "scrolled": true
   },
   "outputs": [
    {
     "data": {
      "text/html": [
       "<div>\n",
       "<style scoped>\n",
       "    .dataframe tbody tr th:only-of-type {\n",
       "        vertical-align: middle;\n",
       "    }\n",
       "\n",
       "    .dataframe tbody tr th {\n",
       "        vertical-align: top;\n",
       "    }\n",
       "\n",
       "    .dataframe thead th {\n",
       "        text-align: right;\n",
       "    }\n",
       "</style>\n",
       "<table border=\"1\" class=\"dataframe\">\n",
       "  <thead>\n",
       "    <tr style=\"text-align: right;\">\n",
       "      <th></th>\n",
       "      <th>x</th>\n",
       "      <th>y</th>\n",
       "      <th>x^2</th>\n",
       "    </tr>\n",
       "  </thead>\n",
       "  <tbody>\n",
       "    <tr>\n",
       "      <th>x</th>\n",
       "      <td>1.000000e+00</td>\n",
       "      <td>2.481184e-18</td>\n",
       "      <td>5.095742e-17</td>\n",
       "    </tr>\n",
       "    <tr>\n",
       "      <th>y</th>\n",
       "      <td>2.481184e-18</td>\n",
       "      <td>1.000000e+00</td>\n",
       "      <td>-8.012960e-18</td>\n",
       "    </tr>\n",
       "    <tr>\n",
       "      <th>x^2</th>\n",
       "      <td>5.095742e-17</td>\n",
       "      <td>-8.012960e-18</td>\n",
       "      <td>1.000000e+00</td>\n",
       "    </tr>\n",
       "  </tbody>\n",
       "</table>\n",
       "</div>"
      ],
      "text/plain": [
       "                x             y           x^2\n",
       "x    1.000000e+00  2.481184e-18  5.095742e-17\n",
       "y    2.481184e-18  1.000000e+00 -8.012960e-18\n",
       "x^2  5.095742e-17 -8.012960e-18  1.000000e+00"
      ]
     },
     "execution_count": 11,
     "metadata": {},
     "output_type": "execute_result"
    }
   ],
   "source": [
    "df_r.corr()"
   ]
  },
  {
   "cell_type": "markdown",
   "id": "curious-ghana",
   "metadata": {},
   "source": [
    "# e+e- --> Z --> e+e-"
   ]
  },
  {
   "cell_type": "code",
   "execution_count": 3,
   "id": "incorporated-funeral",
   "metadata": {},
   "outputs": [
    {
     "data": {
      "text/html": [
       "<div>\n",
       "<style scoped>\n",
       "    .dataframe tbody tr th:only-of-type {\n",
       "        vertical-align: middle;\n",
       "    }\n",
       "\n",
       "    .dataframe tbody tr th {\n",
       "        vertical-align: top;\n",
       "    }\n",
       "\n",
       "    .dataframe thead th {\n",
       "        text-align: right;\n",
       "    }\n",
       "</style>\n",
       "<table border=\"1\" class=\"dataframe\">\n",
       "  <thead>\n",
       "    <tr style=\"text-align: right;\">\n",
       "      <th></th>\n",
       "      <th>Px1</th>\n",
       "      <th>Py1</th>\n",
       "      <th>Pz1</th>\n",
       "      <th>diff_sigma</th>\n",
       "    </tr>\n",
       "  </thead>\n",
       "  <tbody>\n",
       "    <tr>\n",
       "      <th>0</th>\n",
       "      <td>0.621485</td>\n",
       "      <td>0.946198</td>\n",
       "      <td>0.312733</td>\n",
       "      <td>0.358145</td>\n",
       "    </tr>\n",
       "    <tr>\n",
       "      <th>1</th>\n",
       "      <td>0.129325</td>\n",
       "      <td>0.368495</td>\n",
       "      <td>0.788812</td>\n",
       "      <td>0.586554</td>\n",
       "    </tr>\n",
       "    <tr>\n",
       "      <th>2</th>\n",
       "      <td>0.242010</td>\n",
       "      <td>0.124065</td>\n",
       "      <td>0.283531</td>\n",
       "      <td>0.419450</td>\n",
       "    </tr>\n",
       "    <tr>\n",
       "      <th>3</th>\n",
       "      <td>0.718889</td>\n",
       "      <td>0.577443</td>\n",
       "      <td>0.059882</td>\n",
       "      <td>0.876449</td>\n",
       "    </tr>\n",
       "    <tr>\n",
       "      <th>4</th>\n",
       "      <td>0.240270</td>\n",
       "      <td>0.050482</td>\n",
       "      <td>0.470099</td>\n",
       "      <td>0.040470</td>\n",
       "    </tr>\n",
       "  </tbody>\n",
       "</table>\n",
       "</div>"
      ],
      "text/plain": [
       "        Px1       Py1       Pz1  diff_sigma\n",
       "0  0.621485  0.946198  0.312733    0.358145\n",
       "1  0.129325  0.368495  0.788812    0.586554\n",
       "2  0.242010  0.124065  0.283531    0.419450\n",
       "3  0.718889  0.577443  0.059882    0.876449\n",
       "4  0.240270  0.050482  0.470099    0.040470"
      ]
     },
     "execution_count": 3,
     "metadata": {},
     "output_type": "execute_result"
    }
   ],
   "source": [
    "df_e = pd.read_csv('cross-section.csv')\n",
    "\n",
    "categ = []\n",
    "numer = []\n",
    "\n",
    "# ----------------------------------- #\n",
    "\n",
    "target = 'diff_sigma'\n",
    "quantiles = True\n",
    "ignore_list = ['E1', 'Px2', 'Py2', 'Pz2', 'E2', 's', 'cos_theta']\n",
    "\n",
    "\n",
    "# --------------------------------------#\n",
    "for col in list(df_e.columns):\n",
    "    if (col != target) and (col not in ignore_list):\n",
    "        if type(df_e[col][0]) == str:\n",
    "            categ.append(col)\n",
    "        else:\n",
    "            numer.append(col)\n",
    "\n",
    "splits = RandomSplitter(valid_pct=0)(range_of(df_e))\n",
    "\n",
    "to = TabularPandas(df_e,\n",
    "                procs=[Categorify,FillMissing],\n",
    "                cat_names = categ,\n",
    "                cont_names = numer,\n",
    "                y_names = target,\n",
    "                splits=splits)\n",
    "\n",
    "\n",
    "#equiv_CNACE = pd.DataFrame({'Cod_Num':list(to.xs['CNACE'].unique()),'Categ':list(dls.dsets['CNACE'].unique())}).sort_values(by = 'Categ')\n",
    "#equiv_CNO1 = pd.DataFrame({'Cod_Num':list(to.xs['CNO1'].unique()),'Categ':list(dls.dsets['CNO1'].unique())}).sort_values(by = 'Categ')\n",
    "\n",
    "df_e = pd.DataFrame(to.xs)\n",
    "df_e[target] = to.y\n",
    "df_e = df_e.reset_index().drop('index', axis = 1)  \n",
    "\n",
    "for col in df_e.columns:\n",
    "    df_e[col] = np.nan_to_num(df_e[col])   \n",
    "    if quantiles == True:\n",
    "        n_attempted_bins =  len(df_e[col])\n",
    "        binning = pd.qcut(df_e[col], q=n_attempted_bins, retbins=True, labels=False, duplicates='drop')\n",
    "        df_e[col]=binning[0]/np.max(binning[0])\n",
    "        df_e[col] = np.nan_to_num(df_e[col])\n",
    "\n",
    "df_e.head()"
   ]
  },
  {
   "cell_type": "code",
   "execution_count": 13,
   "id": "rental-ghost",
   "metadata": {
    "scrolled": true
   },
   "outputs": [
    {
     "name": "stdout",
     "output_type": "stream",
     "text": [
      "Keeping 10k points of the original DF\n",
      "First Feature importance\n",
      "Second Feature importance\n",
      "\n",
      " ----> Training with features Pz1 and Py1 \n",
      "\n",
      "8000 batch size for training.\n",
      "\n",
      "Training FCNN with layers:  [50, 50, 50, 50, 50]\n",
      "Training for 150 epochs.\n",
      "Using lr_max =  0.01\n"
     ]
    },
    {
     "data": {
      "text/html": [],
      "text/plain": [
       "<IPython.core.display.HTML object>"
      ]
     },
     "metadata": {},
     "output_type": "display_data"
    },
    {
     "data": {
      "text/html": [],
      "text/plain": [
       "<IPython.core.display.HTML object>"
      ]
     },
     "metadata": {},
     "output_type": "display_data"
    },
    {
     "name": "stdout",
     "output_type": "stream",
     "text": [
      "\n",
      "PCA saved to:\n",
      "/home/gabriel/Desktop/Z_e+e-_1/Z_e+e-_1/Z_e+e-_1_11638277940-1000_color_classes--_PCA.png\n",
      "\n",
      "\n",
      "1 PCA's made out of 50.\n",
      "\n",
      "0.1 minutes elapsed for 1 images.\n",
      "0.1 minutes average per image.\n",
      "4.4 minutes estimated left for 49 images.\n",
      "\n",
      "\n",
      "\n",
      "0.1 hours estimated left for 49 images.\n",
      "\n",
      "\n",
      "\n",
      "Keeping 10k points of the original DF\n",
      "First Feature importance\n",
      "Second Feature importance\n",
      "\n",
      " ----> Training with features Pz1 and Px1 \n",
      "\n",
      "8000 batch size for training.\n",
      "\n",
      "Training FCNN with layers:  [50, 50, 50, 50, 50]\n",
      "Training for 150 epochs.\n",
      "Using lr_max =  0.01\n"
     ]
    },
    {
     "data": {
      "text/html": [],
      "text/plain": [
       "<IPython.core.display.HTML object>"
      ]
     },
     "metadata": {},
     "output_type": "display_data"
    },
    {
     "data": {
      "text/html": [],
      "text/plain": [
       "<IPython.core.display.HTML object>"
      ]
     },
     "metadata": {},
     "output_type": "display_data"
    },
    {
     "name": "stdout",
     "output_type": "stream",
     "text": [
      "\n",
      "PCA saved to:\n",
      "/home/gabriel/Desktop/Z_e+e-_1/Z_e+e-_1/Z_e+e-_1_11638277946-1000_color_classes--_PCA.png\n",
      "\n",
      "\n",
      "2 PCA's made out of 50.\n",
      "\n",
      "0.2 minutes elapsed for 2 images.\n",
      "0.1 minutes average per image.\n",
      "4.4 minutes estimated left for 48 images.\n",
      "\n",
      "\n",
      "\n",
      "0.1 hours estimated left for 48 images.\n",
      "\n",
      "\n",
      "\n",
      "Keeping 10k points of the original DF\n",
      "First Feature importance\n",
      "Second Feature importance\n",
      "\n",
      " ----> Training with features Pz1 and Py1 \n",
      "\n",
      "8000 batch size for training.\n",
      "\n",
      "Training FCNN with layers:  [50, 50, 50, 50, 50]\n",
      "Training for 150 epochs.\n",
      "Using lr_max =  0.01\n"
     ]
    },
    {
     "data": {
      "text/html": [],
      "text/plain": [
       "<IPython.core.display.HTML object>"
      ]
     },
     "metadata": {},
     "output_type": "display_data"
    },
    {
     "data": {
      "text/html": [],
      "text/plain": [
       "<IPython.core.display.HTML object>"
      ]
     },
     "metadata": {},
     "output_type": "display_data"
    },
    {
     "name": "stdout",
     "output_type": "stream",
     "text": [
      "\n",
      "PCA saved to:\n",
      "/home/gabriel/Desktop/Z_e+e-_1/Z_e+e-_1/Z_e+e-_1_11638277951-1000_color_classes--_PCA.png\n",
      "\n",
      "\n",
      "3 PCA's made out of 50.\n",
      "\n",
      "0.3 minutes elapsed for 3 images.\n",
      "0.1 minutes average per image.\n",
      "4.3 minutes estimated left for 47 images.\n",
      "\n",
      "\n",
      "\n",
      "0.1 hours estimated left for 47 images.\n",
      "\n",
      "\n",
      "\n",
      "Keeping 10k points of the original DF\n",
      "First Feature importance\n",
      "Second Feature importance\n",
      "\n",
      " ----> Training with features Pz1 and Px1 \n",
      "\n",
      "8000 batch size for training.\n",
      "\n",
      "Training FCNN with layers:  [50, 50, 50, 50, 50]\n",
      "Training for 150 epochs.\n",
      "Using lr_max =  0.01\n"
     ]
    },
    {
     "data": {
      "text/html": [],
      "text/plain": [
       "<IPython.core.display.HTML object>"
      ]
     },
     "metadata": {},
     "output_type": "display_data"
    },
    {
     "data": {
      "text/html": [],
      "text/plain": [
       "<IPython.core.display.HTML object>"
      ]
     },
     "metadata": {},
     "output_type": "display_data"
    },
    {
     "name": "stdout",
     "output_type": "stream",
     "text": [
      "\n",
      "PCA saved to:\n",
      "/home/gabriel/Desktop/Z_e+e-_1/Z_e+e-_1/Z_e+e-_1_11638277957-1000_color_classes--_PCA.png\n",
      "\n",
      "\n",
      "4 PCA's made out of 50.\n",
      "\n",
      "0.4 minutes elapsed for 4 images.\n",
      "0.1 minutes average per image.\n",
      "4.2 minutes estimated left for 46 images.\n",
      "\n",
      "\n",
      "\n",
      "0.1 hours estimated left for 46 images.\n",
      "\n",
      "\n",
      "\n",
      "Keeping 10k points of the original DF\n",
      "First Feature importance\n",
      "Second Feature importance\n",
      "\n",
      " ----> Training with features Pz1 and Px1 \n",
      "\n",
      "8000 batch size for training.\n",
      "\n",
      "Training FCNN with layers:  [50, 50, 50, 50, 50]\n",
      "Training for 150 epochs.\n",
      "Using lr_max =  0.01\n"
     ]
    },
    {
     "data": {
      "text/html": [],
      "text/plain": [
       "<IPython.core.display.HTML object>"
      ]
     },
     "metadata": {},
     "output_type": "display_data"
    },
    {
     "data": {
      "text/html": [],
      "text/plain": [
       "<IPython.core.display.HTML object>"
      ]
     },
     "metadata": {},
     "output_type": "display_data"
    },
    {
     "name": "stdout",
     "output_type": "stream",
     "text": [
      "\n",
      "PCA saved to:\n",
      "/home/gabriel/Desktop/Z_e+e-_1/Z_e+e-_1/Z_e+e-_1_11638277962-1000_color_classes--_PCA.png\n",
      "\n",
      "\n",
      "5 PCA's made out of 50.\n",
      "\n",
      "0.5 minutes elapsed for 5 images.\n",
      "0.1 minutes average per image.\n",
      "4.1 minutes estimated left for 45 images.\n",
      "\n",
      "\n",
      "\n",
      "0.1 hours estimated left for 45 images.\n",
      "\n",
      "\n",
      "\n",
      "Keeping 10k points of the original DF\n",
      "First Feature importance\n",
      "Second Feature importance\n",
      "\n",
      " ----> Training with features Pz1 and Px1 \n",
      "\n",
      "8000 batch size for training.\n",
      "\n",
      "Training FCNN with layers:  [50, 50, 50, 50, 50]\n",
      "Training for 150 epochs.\n",
      "Using lr_max =  0.01\n"
     ]
    },
    {
     "data": {
      "text/html": [],
      "text/plain": [
       "<IPython.core.display.HTML object>"
      ]
     },
     "metadata": {},
     "output_type": "display_data"
    },
    {
     "data": {
      "text/html": [],
      "text/plain": [
       "<IPython.core.display.HTML object>"
      ]
     },
     "metadata": {},
     "output_type": "display_data"
    },
    {
     "name": "stdout",
     "output_type": "stream",
     "text": [
      "\n",
      "PCA saved to:\n",
      "/home/gabriel/Desktop/Z_e+e-_1/Z_e+e-_1/Z_e+e-_1_11638277968-1000_color_classes--_PCA.png\n",
      "\n",
      "\n",
      "6 PCA's made out of 50.\n",
      "\n",
      "0.6 minutes elapsed for 6 images.\n",
      "0.1 minutes average per image.\n",
      "4.0 minutes estimated left for 44 images.\n",
      "\n",
      "\n",
      "\n",
      "0.1 hours estimated left for 44 images.\n",
      "\n",
      "\n",
      "\n",
      "Keeping 10k points of the original DF\n",
      "First Feature importance\n",
      "Second Feature importance\n",
      "\n",
      " ----> Training with features Pz1 and Px1 \n",
      "\n",
      "8000 batch size for training.\n",
      "\n",
      "Training FCNN with layers:  [50, 50, 50, 50, 50]\n",
      "Training for 150 epochs.\n",
      "Using lr_max =  0.01\n"
     ]
    },
    {
     "data": {
      "text/html": [],
      "text/plain": [
       "<IPython.core.display.HTML object>"
      ]
     },
     "metadata": {},
     "output_type": "display_data"
    },
    {
     "data": {
      "text/html": [],
      "text/plain": [
       "<IPython.core.display.HTML object>"
      ]
     },
     "metadata": {},
     "output_type": "display_data"
    },
    {
     "name": "stdout",
     "output_type": "stream",
     "text": [
      "\n",
      "PCA saved to:\n",
      "/home/gabriel/Desktop/Z_e+e-_1/Z_e+e-_1/Z_e+e-_1_11638277973-1000_color_classes--_PCA.png\n",
      "\n",
      "\n",
      "7 PCA's made out of 50.\n",
      "\n",
      "0.6 minutes elapsed for 7 images.\n",
      "0.1 minutes average per image.\n",
      "4.0 minutes estimated left for 43 images.\n",
      "\n",
      "\n",
      "\n",
      "0.1 hours estimated left for 43 images.\n",
      "\n",
      "\n",
      "\n",
      "Keeping 10k points of the original DF\n",
      "First Feature importance\n",
      "Second Feature importance\n",
      "\n",
      " ----> Training with features Pz1 and Px1 \n",
      "\n",
      "8000 batch size for training.\n",
      "\n",
      "Training FCNN with layers:  [50, 50, 50, 50, 50]\n",
      "Training for 150 epochs.\n",
      "Using lr_max =  0.01\n"
     ]
    },
    {
     "data": {
      "text/html": [],
      "text/plain": [
       "<IPython.core.display.HTML object>"
      ]
     },
     "metadata": {},
     "output_type": "display_data"
    },
    {
     "data": {
      "text/html": [],
      "text/plain": [
       "<IPython.core.display.HTML object>"
      ]
     },
     "metadata": {},
     "output_type": "display_data"
    },
    {
     "name": "stdout",
     "output_type": "stream",
     "text": [
      "\n",
      "PCA saved to:\n",
      "/home/gabriel/Desktop/Z_e+e-_1/Z_e+e-_1/Z_e+e-_1_11638277979-1000_color_classes--_PCA.png\n",
      "\n",
      "\n",
      "8 PCA's made out of 50.\n",
      "\n",
      "0.7 minutes elapsed for 8 images.\n",
      "0.1 minutes average per image.\n",
      "3.9 minutes estimated left for 42 images.\n",
      "\n",
      "\n",
      "\n",
      "0.1 hours estimated left for 42 images.\n",
      "\n",
      "\n",
      "\n",
      "Keeping 10k points of the original DF\n",
      "First Feature importance\n",
      "Second Feature importance\n",
      "\n",
      " ----> Training with features Pz1 and Px1 \n",
      "\n",
      "8000 batch size for training.\n",
      "\n",
      "Training FCNN with layers:  [50, 50, 50, 50, 50]\n",
      "Training for 150 epochs.\n",
      "Using lr_max =  0.01\n"
     ]
    },
    {
     "data": {
      "text/html": [],
      "text/plain": [
       "<IPython.core.display.HTML object>"
      ]
     },
     "metadata": {},
     "output_type": "display_data"
    },
    {
     "data": {
      "text/html": [],
      "text/plain": [
       "<IPython.core.display.HTML object>"
      ]
     },
     "metadata": {},
     "output_type": "display_data"
    },
    {
     "name": "stdout",
     "output_type": "stream",
     "text": [
      "\n",
      "PCA saved to:\n",
      "/home/gabriel/Desktop/Z_e+e-_1/Z_e+e-_1/Z_e+e-_1_11638277985-1000_color_classes--_PCA.png\n",
      "\n",
      "\n",
      "9 PCA's made out of 50.\n",
      "\n",
      "0.8 minutes elapsed for 9 images.\n",
      "0.1 minutes average per image.\n",
      "3.8 minutes estimated left for 41 images.\n",
      "\n",
      "\n",
      "\n",
      "0.1 hours estimated left for 41 images.\n",
      "\n",
      "\n",
      "\n",
      "Keeping 10k points of the original DF\n",
      "First Feature importance\n",
      "Second Feature importance\n",
      "\n",
      " ----> Training with features Pz1 and Px1 \n",
      "\n",
      "8000 batch size for training.\n",
      "\n",
      "Training FCNN with layers:  [50, 50, 50, 50, 50]\n",
      "Training for 150 epochs.\n",
      "Using lr_max =  0.01\n"
     ]
    },
    {
     "data": {
      "text/html": [],
      "text/plain": [
       "<IPython.core.display.HTML object>"
      ]
     },
     "metadata": {},
     "output_type": "display_data"
    },
    {
     "data": {
      "text/html": [],
      "text/plain": [
       "<IPython.core.display.HTML object>"
      ]
     },
     "metadata": {},
     "output_type": "display_data"
    },
    {
     "name": "stdout",
     "output_type": "stream",
     "text": [
      "\n",
      "PCA saved to:\n",
      "/home/gabriel/Desktop/Z_e+e-_1/Z_e+e-_1/Z_e+e-_1_11638277990-1000_color_classes--_PCA.png\n",
      "\n",
      "\n",
      "10 PCA's made out of 50.\n",
      "\n",
      "0.9 minutes elapsed for 10 images.\n",
      "0.1 minutes average per image.\n",
      "3.7 minutes estimated left for 40 images.\n",
      "\n",
      "\n",
      "\n",
      "0.1 hours estimated left for 40 images.\n",
      "\n",
      "\n",
      "\n",
      "Keeping 10k points of the original DF\n",
      "First Feature importance\n",
      "Second Feature importance\n",
      "\n",
      " ----> Training with features Pz1 and Px1 \n",
      "\n",
      "8000 batch size for training.\n",
      "\n",
      "Training FCNN with layers:  [50, 50, 50, 50, 50]\n",
      "Training for 150 epochs.\n",
      "Using lr_max =  0.01\n"
     ]
    },
    {
     "data": {
      "text/html": [],
      "text/plain": [
       "<IPython.core.display.HTML object>"
      ]
     },
     "metadata": {},
     "output_type": "display_data"
    },
    {
     "data": {
      "text/html": [],
      "text/plain": [
       "<IPython.core.display.HTML object>"
      ]
     },
     "metadata": {},
     "output_type": "display_data"
    },
    {
     "name": "stdout",
     "output_type": "stream",
     "text": [
      "\n",
      "PCA saved to:\n",
      "/home/gabriel/Desktop/Z_e+e-_1/Z_e+e-_1/Z_e+e-_1_11638277996-1000_color_classes--_PCA.png\n",
      "\n",
      "\n",
      "11 PCA's made out of 50.\n",
      "\n",
      "1.0 minutes elapsed for 11 images.\n",
      "0.1 minutes average per image.\n",
      "3.6 minutes estimated left for 39 images.\n",
      "\n",
      "\n",
      "\n",
      "0.1 hours estimated left for 39 images.\n",
      "\n",
      "\n",
      "\n",
      "Keeping 10k points of the original DF\n",
      "First Feature importance\n",
      "Second Feature importance\n",
      "\n",
      " ----> Training with features Pz1 and Px1 \n",
      "\n",
      "8000 batch size for training.\n",
      "\n",
      "Training FCNN with layers:  [50, 50, 50, 50, 50]\n",
      "Training for 150 epochs.\n",
      "Using lr_max =  0.01\n"
     ]
    },
    {
     "data": {
      "text/html": [],
      "text/plain": [
       "<IPython.core.display.HTML object>"
      ]
     },
     "metadata": {},
     "output_type": "display_data"
    },
    {
     "data": {
      "text/html": [],
      "text/plain": [
       "<IPython.core.display.HTML object>"
      ]
     },
     "metadata": {},
     "output_type": "display_data"
    },
    {
     "name": "stdout",
     "output_type": "stream",
     "text": [
      "\n",
      "PCA saved to:\n",
      "/home/gabriel/Desktop/Z_e+e-_1/Z_e+e-_1/Z_e+e-_1_11638278001-1000_color_classes--_PCA.png\n",
      "\n",
      "\n",
      "12 PCA's made out of 50.\n",
      "\n",
      "1.1 minutes elapsed for 12 images.\n",
      "0.1 minutes average per image.\n",
      "3.5 minutes estimated left for 38 images.\n",
      "\n",
      "\n",
      "\n",
      "0.1 hours estimated left for 38 images.\n",
      "\n",
      "\n",
      "\n",
      "Keeping 10k points of the original DF\n",
      "First Feature importance\n",
      "Second Feature importance\n",
      "\n",
      " ----> Training with features Pz1 and Px1 \n",
      "\n",
      "8000 batch size for training.\n",
      "\n",
      "Training FCNN with layers:  [50, 50, 50, 50, 50]\n",
      "Training for 150 epochs.\n",
      "Using lr_max =  0.01\n"
     ]
    },
    {
     "data": {
      "text/html": [],
      "text/plain": [
       "<IPython.core.display.HTML object>"
      ]
     },
     "metadata": {},
     "output_type": "display_data"
    },
    {
     "data": {
      "text/html": [],
      "text/plain": [
       "<IPython.core.display.HTML object>"
      ]
     },
     "metadata": {},
     "output_type": "display_data"
    },
    {
     "name": "stdout",
     "output_type": "stream",
     "text": [
      "\n",
      "PCA saved to:\n",
      "/home/gabriel/Desktop/Z_e+e-_1/Z_e+e-_1/Z_e+e-_1_11638278007-1000_color_classes--_PCA.png\n",
      "\n",
      "\n",
      "13 PCA's made out of 50.\n",
      "\n",
      "1.2 minutes elapsed for 13 images.\n",
      "0.1 minutes average per image.\n",
      "3.5 minutes estimated left for 37 images.\n",
      "\n",
      "\n",
      "\n",
      "0.1 hours estimated left for 37 images.\n",
      "\n",
      "\n",
      "\n",
      "Keeping 10k points of the original DF\n",
      "First Feature importance\n",
      "Second Feature importance\n",
      "\n",
      " ----> Training with features Pz1 and Px1 \n",
      "\n",
      "8000 batch size for training.\n",
      "\n",
      "Training FCNN with layers:  [50, 50, 50, 50, 50]\n",
      "Training for 150 epochs.\n",
      "Using lr_max =  0.01\n"
     ]
    },
    {
     "data": {
      "text/html": [],
      "text/plain": [
       "<IPython.core.display.HTML object>"
      ]
     },
     "metadata": {},
     "output_type": "display_data"
    },
    {
     "data": {
      "text/html": [],
      "text/plain": [
       "<IPython.core.display.HTML object>"
      ]
     },
     "metadata": {},
     "output_type": "display_data"
    },
    {
     "name": "stdout",
     "output_type": "stream",
     "text": [
      "\n",
      "PCA saved to:\n",
      "/home/gabriel/Desktop/Z_e+e-_1/Z_e+e-_1/Z_e+e-_1_11638278013-1000_color_classes--_PCA.png\n",
      "\n",
      "\n",
      "14 PCA's made out of 50.\n",
      "\n",
      "1.3 minutes elapsed for 14 images.\n",
      "0.1 minutes average per image.\n",
      "3.4 minutes estimated left for 36 images.\n",
      "\n",
      "\n",
      "\n",
      "0.1 hours estimated left for 36 images.\n",
      "\n",
      "\n",
      "\n",
      "Keeping 10k points of the original DF\n",
      "First Feature importance\n",
      "Second Feature importance\n",
      "\n",
      " ----> Training with features Pz1 and Py1 \n",
      "\n",
      "8000 batch size for training.\n",
      "\n",
      "Training FCNN with layers:  [50, 50, 50, 50, 50]\n",
      "Training for 150 epochs.\n",
      "Using lr_max =  0.01\n"
     ]
    },
    {
     "data": {
      "text/html": [],
      "text/plain": [
       "<IPython.core.display.HTML object>"
      ]
     },
     "metadata": {},
     "output_type": "display_data"
    },
    {
     "data": {
      "text/html": [],
      "text/plain": [
       "<IPython.core.display.HTML object>"
      ]
     },
     "metadata": {},
     "output_type": "display_data"
    },
    {
     "name": "stdout",
     "output_type": "stream",
     "text": [
      "\n",
      "PCA saved to:\n",
      "/home/gabriel/Desktop/Z_e+e-_1/Z_e+e-_1/Z_e+e-_1_11638278019-1000_color_classes--_PCA.png\n",
      "\n",
      "\n",
      "15 PCA's made out of 50.\n",
      "\n",
      "1.4 minutes elapsed for 15 images.\n",
      "0.1 minutes average per image.\n",
      "3.3 minutes estimated left for 35 images.\n",
      "\n",
      "\n",
      "\n",
      "0.1 hours estimated left for 35 images.\n",
      "\n",
      "\n",
      "\n",
      "Keeping 10k points of the original DF\n",
      "First Feature importance\n",
      "Second Feature importance\n",
      "\n",
      " ----> Training with features Pz1 and Py1 \n",
      "\n",
      "8000 batch size for training.\n",
      "\n",
      "Training FCNN with layers:  [50, 50, 50, 50, 50]\n",
      "Training for 150 epochs.\n",
      "Using lr_max =  0.01\n"
     ]
    },
    {
     "data": {
      "text/html": [],
      "text/plain": [
       "<IPython.core.display.HTML object>"
      ]
     },
     "metadata": {},
     "output_type": "display_data"
    },
    {
     "data": {
      "text/html": [],
      "text/plain": [
       "<IPython.core.display.HTML object>"
      ]
     },
     "metadata": {},
     "output_type": "display_data"
    },
    {
     "name": "stdout",
     "output_type": "stream",
     "text": [
      "\n",
      "PCA saved to:\n",
      "/home/gabriel/Desktop/Z_e+e-_1/Z_e+e-_1/Z_e+e-_1_11638278024-1000_color_classes--_PCA.png\n",
      "\n",
      "\n",
      "16 PCA's made out of 50.\n",
      "\n",
      "1.5 minutes elapsed for 16 images.\n",
      "0.1 minutes average per image.\n",
      "3.2 minutes estimated left for 34 images.\n",
      "\n",
      "\n",
      "\n",
      "0.1 hours estimated left for 34 images.\n",
      "\n",
      "\n",
      "\n",
      "Keeping 10k points of the original DF\n",
      "First Feature importance\n",
      "Second Feature importance\n",
      "\n",
      " ----> Training with features Pz1 and Py1 \n",
      "\n",
      "8000 batch size for training.\n",
      "\n",
      "Training FCNN with layers:  [50, 50, 50, 50, 50]\n",
      "Training for 150 epochs.\n",
      "Using lr_max =  0.01\n"
     ]
    },
    {
     "data": {
      "text/html": [],
      "text/plain": [
       "<IPython.core.display.HTML object>"
      ]
     },
     "metadata": {},
     "output_type": "display_data"
    },
    {
     "data": {
      "text/html": [],
      "text/plain": [
       "<IPython.core.display.HTML object>"
      ]
     },
     "metadata": {},
     "output_type": "display_data"
    },
    {
     "name": "stdout",
     "output_type": "stream",
     "text": [
      "\n",
      "PCA saved to:\n",
      "/home/gabriel/Desktop/Z_e+e-_1/Z_e+e-_1/Z_e+e-_1_11638278029-1000_color_classes--_PCA.png\n",
      "\n",
      "\n",
      "17 PCA's made out of 50.\n",
      "\n",
      "1.6 minutes elapsed for 17 images.\n",
      "0.1 minutes average per image.\n",
      "3.1 minutes estimated left for 33 images.\n",
      "\n",
      "\n",
      "\n",
      "0.1 hours estimated left for 33 images.\n",
      "\n",
      "\n",
      "\n",
      "Keeping 10k points of the original DF\n",
      "First Feature importance\n",
      "Second Feature importance\n",
      "\n",
      " ----> Training with features Pz1 and Px1 \n",
      "\n",
      "8000 batch size for training.\n",
      "\n",
      "Training FCNN with layers:  [50, 50, 50, 50, 50]\n",
      "Training for 150 epochs.\n",
      "Using lr_max =  0.01\n"
     ]
    },
    {
     "data": {
      "text/html": [],
      "text/plain": [
       "<IPython.core.display.HTML object>"
      ]
     },
     "metadata": {},
     "output_type": "display_data"
    },
    {
     "data": {
      "text/html": [],
      "text/plain": [
       "<IPython.core.display.HTML object>"
      ]
     },
     "metadata": {},
     "output_type": "display_data"
    },
    {
     "name": "stdout",
     "output_type": "stream",
     "text": [
      "\n",
      "PCA saved to:\n",
      "/home/gabriel/Desktop/Z_e+e-_1/Z_e+e-_1/Z_e+e-_1_11638278035-1000_color_classes--_PCA.png\n",
      "\n",
      "\n",
      "18 PCA's made out of 50.\n",
      "\n",
      "1.7 minutes elapsed for 18 images.\n",
      "0.1 minutes average per image.\n",
      "3.0 minutes estimated left for 32 images.\n",
      "\n",
      "\n",
      "\n",
      "0.0 hours estimated left for 32 images.\n",
      "\n",
      "\n",
      "\n",
      "Keeping 10k points of the original DF\n",
      "First Feature importance\n",
      "Second Feature importance\n",
      "\n",
      " ----> Training with features Pz1 and Py1 \n",
      "\n",
      "8000 batch size for training.\n",
      "\n",
      "Training FCNN with layers:  [50, 50, 50, 50, 50]\n",
      "Training for 150 epochs.\n",
      "Using lr_max =  0.01\n"
     ]
    },
    {
     "data": {
      "text/html": [],
      "text/plain": [
       "<IPython.core.display.HTML object>"
      ]
     },
     "metadata": {},
     "output_type": "display_data"
    },
    {
     "data": {
      "text/html": [],
      "text/plain": [
       "<IPython.core.display.HTML object>"
      ]
     },
     "metadata": {},
     "output_type": "display_data"
    },
    {
     "name": "stdout",
     "output_type": "stream",
     "text": [
      "\n",
      "PCA saved to:\n",
      "/home/gabriel/Desktop/Z_e+e-_1/Z_e+e-_1/Z_e+e-_1_11638278041-1000_color_classes--_PCA.png\n",
      "\n",
      "\n",
      "19 PCA's made out of 50.\n",
      "\n",
      "1.8 minutes elapsed for 19 images.\n",
      "0.1 minutes average per image.\n",
      "2.9 minutes estimated left for 31 images.\n",
      "\n",
      "\n",
      "\n",
      "0.0 hours estimated left for 31 images.\n",
      "\n",
      "\n",
      "\n",
      "Keeping 10k points of the original DF\n",
      "First Feature importance\n",
      "Second Feature importance\n",
      "\n",
      " ----> Training with features Pz1 and Px1 \n",
      "\n",
      "8000 batch size for training.\n",
      "\n",
      "Training FCNN with layers:  [50, 50, 50, 50, 50]\n",
      "Training for 150 epochs.\n",
      "Using lr_max =  0.01\n"
     ]
    },
    {
     "data": {
      "text/html": [],
      "text/plain": [
       "<IPython.core.display.HTML object>"
      ]
     },
     "metadata": {},
     "output_type": "display_data"
    },
    {
     "data": {
      "text/html": [],
      "text/plain": [
       "<IPython.core.display.HTML object>"
      ]
     },
     "metadata": {},
     "output_type": "display_data"
    },
    {
     "name": "stdout",
     "output_type": "stream",
     "text": [
      "\n",
      "PCA saved to:\n",
      "/home/gabriel/Desktop/Z_e+e-_1/Z_e+e-_1/Z_e+e-_1_11638278046-1000_color_classes--_PCA.png\n",
      "\n",
      "\n",
      "20 PCA's made out of 50.\n",
      "\n",
      "1.9 minutes elapsed for 20 images.\n",
      "0.1 minutes average per image.\n",
      "2.8 minutes estimated left for 30 images.\n",
      "\n",
      "\n",
      "\n",
      "0.0 hours estimated left for 30 images.\n",
      "\n",
      "\n",
      "\n",
      "Keeping 10k points of the original DF\n",
      "First Feature importance\n",
      "Second Feature importance\n",
      "\n",
      " ----> Training with features Pz1 and Py1 \n",
      "\n",
      "8000 batch size for training.\n",
      "\n",
      "Training FCNN with layers:  [50, 50, 50, 50, 50]\n",
      "Training for 150 epochs.\n",
      "Using lr_max =  0.01\n"
     ]
    },
    {
     "data": {
      "text/html": [],
      "text/plain": [
       "<IPython.core.display.HTML object>"
      ]
     },
     "metadata": {},
     "output_type": "display_data"
    },
    {
     "data": {
      "text/html": [],
      "text/plain": [
       "<IPython.core.display.HTML object>"
      ]
     },
     "metadata": {},
     "output_type": "display_data"
    },
    {
     "name": "stdout",
     "output_type": "stream",
     "text": [
      "\n",
      "PCA saved to:\n",
      "/home/gabriel/Desktop/Z_e+e-_1/Z_e+e-_1/Z_e+e-_1_11638278052-1000_color_classes--_PCA.png\n",
      "\n",
      "\n",
      "21 PCA's made out of 50.\n",
      "\n",
      "2.0 minutes elapsed for 21 images.\n",
      "0.1 minutes average per image.\n",
      "2.7 minutes estimated left for 29 images.\n",
      "\n",
      "\n",
      "\n",
      "0.0 hours estimated left for 29 images.\n",
      "\n",
      "\n",
      "\n",
      "Keeping 10k points of the original DF\n",
      "First Feature importance\n",
      "Second Feature importance\n",
      "\n",
      " ----> Training with features Pz1 and Px1 \n",
      "\n",
      "8000 batch size for training.\n",
      "\n",
      "Training FCNN with layers:  [50, 50, 50, 50, 50]\n",
      "Training for 150 epochs.\n",
      "Using lr_max =  0.01\n"
     ]
    },
    {
     "data": {
      "text/html": [],
      "text/plain": [
       "<IPython.core.display.HTML object>"
      ]
     },
     "metadata": {},
     "output_type": "display_data"
    },
    {
     "data": {
      "text/html": [],
      "text/plain": [
       "<IPython.core.display.HTML object>"
      ]
     },
     "metadata": {},
     "output_type": "display_data"
    },
    {
     "name": "stdout",
     "output_type": "stream",
     "text": [
      "\n",
      "PCA saved to:\n",
      "/home/gabriel/Desktop/Z_e+e-_1/Z_e+e-_1/Z_e+e-_1_11638278058-1000_color_classes--_PCA.png\n",
      "\n",
      "\n",
      "22 PCA's made out of 50.\n",
      "\n",
      "2.0 minutes elapsed for 22 images.\n",
      "0.1 minutes average per image.\n",
      "2.6 minutes estimated left for 28 images.\n",
      "\n",
      "\n",
      "\n",
      "0.0 hours estimated left for 28 images.\n",
      "\n",
      "\n",
      "\n",
      "Keeping 10k points of the original DF\n",
      "First Feature importance\n",
      "Second Feature importance\n",
      "\n",
      " ----> Training with features Pz1 and Px1 \n",
      "\n",
      "8000 batch size for training.\n",
      "\n",
      "Training FCNN with layers:  [50, 50, 50, 50, 50]\n",
      "Training for 150 epochs.\n",
      "Using lr_max =  0.01\n"
     ]
    },
    {
     "data": {
      "text/html": [],
      "text/plain": [
       "<IPython.core.display.HTML object>"
      ]
     },
     "metadata": {},
     "output_type": "display_data"
    },
    {
     "data": {
      "text/html": [],
      "text/plain": [
       "<IPython.core.display.HTML object>"
      ]
     },
     "metadata": {},
     "output_type": "display_data"
    },
    {
     "name": "stdout",
     "output_type": "stream",
     "text": [
      "\n",
      "PCA saved to:\n",
      "/home/gabriel/Desktop/Z_e+e-_1/Z_e+e-_1/Z_e+e-_1_11638278063-1000_color_classes--_PCA.png\n",
      "\n",
      "\n",
      "23 PCA's made out of 50.\n",
      "\n",
      "2.1 minutes elapsed for 23 images.\n",
      "0.1 minutes average per image.\n",
      "2.5 minutes estimated left for 27 images.\n",
      "\n",
      "\n",
      "\n",
      "0.0 hours estimated left for 27 images.\n",
      "\n",
      "\n",
      "\n",
      "Keeping 10k points of the original DF\n",
      "First Feature importance\n",
      "Second Feature importance\n",
      "\n",
      " ----> Training with features Pz1 and Py1 \n",
      "\n",
      "8000 batch size for training.\n",
      "\n",
      "Training FCNN with layers:  [50, 50, 50, 50, 50]\n",
      "Training for 150 epochs.\n",
      "Using lr_max =  0.01\n"
     ]
    },
    {
     "data": {
      "text/html": [],
      "text/plain": [
       "<IPython.core.display.HTML object>"
      ]
     },
     "metadata": {},
     "output_type": "display_data"
    },
    {
     "data": {
      "text/html": [],
      "text/plain": [
       "<IPython.core.display.HTML object>"
      ]
     },
     "metadata": {},
     "output_type": "display_data"
    },
    {
     "name": "stdout",
     "output_type": "stream",
     "text": [
      "\n",
      "PCA saved to:\n",
      "/home/gabriel/Desktop/Z_e+e-_1/Z_e+e-_1/Z_e+e-_1_11638278069-1000_color_classes--_PCA.png\n",
      "\n",
      "\n",
      "24 PCA's made out of 50.\n",
      "\n",
      "2.2 minutes elapsed for 24 images.\n",
      "0.1 minutes average per image.\n",
      "2.4 minutes estimated left for 26 images.\n",
      "\n",
      "\n",
      "\n",
      "0.0 hours estimated left for 26 images.\n",
      "\n",
      "\n",
      "\n",
      "Keeping 10k points of the original DF\n",
      "First Feature importance\n",
      "Second Feature importance\n",
      "\n",
      " ----> Training with features Pz1 and Px1 \n",
      "\n",
      "8000 batch size for training.\n",
      "\n",
      "Training FCNN with layers:  [50, 50, 50, 50, 50]\n",
      "Training for 150 epochs.\n",
      "Using lr_max =  0.01\n"
     ]
    },
    {
     "data": {
      "text/html": [],
      "text/plain": [
       "<IPython.core.display.HTML object>"
      ]
     },
     "metadata": {},
     "output_type": "display_data"
    },
    {
     "data": {
      "text/html": [],
      "text/plain": [
       "<IPython.core.display.HTML object>"
      ]
     },
     "metadata": {},
     "output_type": "display_data"
    },
    {
     "name": "stdout",
     "output_type": "stream",
     "text": [
      "\n",
      "PCA saved to:\n",
      "/home/gabriel/Desktop/Z_e+e-_1/Z_e+e-_1/Z_e+e-_1_11638278074-1000_color_classes--_PCA.png\n",
      "\n",
      "\n",
      "25 PCA's made out of 50.\n",
      "\n",
      "2.3 minutes elapsed for 25 images.\n",
      "0.1 minutes average per image.\n",
      "2.3 minutes estimated left for 25 images.\n",
      "\n",
      "\n",
      "\n",
      "0.0 hours estimated left for 25 images.\n",
      "\n",
      "\n",
      "\n",
      "Keeping 10k points of the original DF\n",
      "First Feature importance\n",
      "Second Feature importance\n",
      "\n",
      " ----> Training with features Pz1 and Px1 \n",
      "\n",
      "8000 batch size for training.\n",
      "\n",
      "Training FCNN with layers:  [50, 50, 50, 50, 50]\n",
      "Training for 150 epochs.\n",
      "Using lr_max =  0.01\n"
     ]
    },
    {
     "data": {
      "text/html": [],
      "text/plain": [
       "<IPython.core.display.HTML object>"
      ]
     },
     "metadata": {},
     "output_type": "display_data"
    },
    {
     "data": {
      "text/html": [],
      "text/plain": [
       "<IPython.core.display.HTML object>"
      ]
     },
     "metadata": {},
     "output_type": "display_data"
    },
    {
     "name": "stdout",
     "output_type": "stream",
     "text": [
      "\n",
      "PCA saved to:\n",
      "/home/gabriel/Desktop/Z_e+e-_1/Z_e+e-_1/Z_e+e-_1_11638278079-1000_color_classes--_PCA.png\n",
      "\n",
      "\n",
      "26 PCA's made out of 50.\n",
      "\n",
      "2.4 minutes elapsed for 26 images.\n",
      "0.1 minutes average per image.\n",
      "2.2 minutes estimated left for 24 images.\n",
      "\n",
      "\n",
      "\n",
      "0.0 hours estimated left for 24 images.\n",
      "\n",
      "\n",
      "\n",
      "Keeping 10k points of the original DF\n",
      "First Feature importance\n",
      "Second Feature importance\n",
      "\n",
      " ----> Training with features Pz1 and Py1 \n",
      "\n",
      "8000 batch size for training.\n",
      "\n",
      "Training FCNN with layers:  [50, 50, 50, 50, 50]\n",
      "Training for 150 epochs.\n",
      "Using lr_max =  0.01\n"
     ]
    },
    {
     "data": {
      "text/html": [],
      "text/plain": [
       "<IPython.core.display.HTML object>"
      ]
     },
     "metadata": {},
     "output_type": "display_data"
    },
    {
     "data": {
      "text/html": [],
      "text/plain": [
       "<IPython.core.display.HTML object>"
      ]
     },
     "metadata": {},
     "output_type": "display_data"
    },
    {
     "name": "stdout",
     "output_type": "stream",
     "text": [
      "\n",
      "PCA saved to:\n",
      "/home/gabriel/Desktop/Z_e+e-_1/Z_e+e-_1/Z_e+e-_1_11638278085-1000_color_classes--_PCA.png\n",
      "\n",
      "\n",
      "27 PCA's made out of 50.\n",
      "\n",
      "2.5 minutes elapsed for 27 images.\n",
      "0.1 minutes average per image.\n",
      "2.1 minutes estimated left for 23 images.\n",
      "\n",
      "\n",
      "\n",
      "0.0 hours estimated left for 23 images.\n",
      "\n",
      "\n",
      "\n",
      "Keeping 10k points of the original DF\n",
      "First Feature importance\n",
      "Second Feature importance\n",
      "\n",
      " ----> Training with features Pz1 and Py1 \n",
      "\n",
      "8000 batch size for training.\n",
      "\n",
      "Training FCNN with layers:  [50, 50, 50, 50, 50]\n",
      "Training for 150 epochs.\n",
      "Using lr_max =  0.01\n"
     ]
    },
    {
     "data": {
      "text/html": [],
      "text/plain": [
       "<IPython.core.display.HTML object>"
      ]
     },
     "metadata": {},
     "output_type": "display_data"
    },
    {
     "data": {
      "text/html": [],
      "text/plain": [
       "<IPython.core.display.HTML object>"
      ]
     },
     "metadata": {},
     "output_type": "display_data"
    },
    {
     "name": "stdout",
     "output_type": "stream",
     "text": [
      "\n",
      "PCA saved to:\n",
      "/home/gabriel/Desktop/Z_e+e-_1/Z_e+e-_1/Z_e+e-_1_11638278090-1000_color_classes--_PCA.png\n",
      "\n",
      "\n",
      "28 PCA's made out of 50.\n",
      "\n",
      "2.6 minutes elapsed for 28 images.\n",
      "0.1 minutes average per image.\n",
      "2.0 minutes estimated left for 22 images.\n",
      "\n",
      "\n",
      "\n",
      "0.0 hours estimated left for 22 images.\n",
      "\n",
      "\n",
      "\n",
      "Keeping 10k points of the original DF\n",
      "First Feature importance\n",
      "Second Feature importance\n",
      "\n",
      " ----> Training with features Pz1 and Py1 \n",
      "\n",
      "8000 batch size for training.\n",
      "\n",
      "Training FCNN with layers:  [50, 50, 50, 50, 50]\n",
      "Training for 150 epochs.\n",
      "Using lr_max =  0.01\n"
     ]
    },
    {
     "data": {
      "text/html": [],
      "text/plain": [
       "<IPython.core.display.HTML object>"
      ]
     },
     "metadata": {},
     "output_type": "display_data"
    },
    {
     "data": {
      "text/html": [],
      "text/plain": [
       "<IPython.core.display.HTML object>"
      ]
     },
     "metadata": {},
     "output_type": "display_data"
    },
    {
     "name": "stdout",
     "output_type": "stream",
     "text": [
      "\n",
      "PCA saved to:\n",
      "/home/gabriel/Desktop/Z_e+e-_1/Z_e+e-_1/Z_e+e-_1_11638278096-1000_color_classes--_PCA.png\n",
      "\n",
      "\n",
      "29 PCA's made out of 50.\n",
      "\n",
      "2.7 minutes elapsed for 29 images.\n",
      "0.1 minutes average per image.\n",
      "1.9 minutes estimated left for 21 images.\n",
      "\n",
      "\n",
      "\n",
      "0.0 hours estimated left for 21 images.\n",
      "\n",
      "\n",
      "\n",
      "Keeping 10k points of the original DF\n",
      "First Feature importance\n",
      "Second Feature importance\n",
      "\n",
      " ----> Training with features Pz1 and Py1 \n",
      "\n",
      "8000 batch size for training.\n",
      "\n",
      "Training FCNN with layers:  [50, 50, 50, 50, 50]\n",
      "Training for 150 epochs.\n",
      "Using lr_max =  0.01\n"
     ]
    },
    {
     "data": {
      "text/html": [],
      "text/plain": [
       "<IPython.core.display.HTML object>"
      ]
     },
     "metadata": {},
     "output_type": "display_data"
    },
    {
     "data": {
      "text/html": [],
      "text/plain": [
       "<IPython.core.display.HTML object>"
      ]
     },
     "metadata": {},
     "output_type": "display_data"
    },
    {
     "name": "stdout",
     "output_type": "stream",
     "text": [
      "\n",
      "PCA saved to:\n",
      "/home/gabriel/Desktop/Z_e+e-_1/Z_e+e-_1/Z_e+e-_1_11638278102-1000_color_classes--_PCA.png\n",
      "\n",
      "\n",
      "30 PCA's made out of 50.\n",
      "\n",
      "2.8 minutes elapsed for 30 images.\n",
      "0.1 minutes average per image.\n",
      "1.9 minutes estimated left for 20 images.\n",
      "\n",
      "\n",
      "\n",
      "0.0 hours estimated left for 20 images.\n",
      "\n",
      "\n",
      "\n",
      "Keeping 10k points of the original DF\n",
      "First Feature importance\n",
      "Second Feature importance\n",
      "\n",
      " ----> Training with features Pz1 and Px1 \n",
      "\n",
      "8000 batch size for training.\n",
      "\n",
      "Training FCNN with layers:  [50, 50, 50, 50, 50]\n",
      "Training for 150 epochs.\n",
      "Using lr_max =  0.01\n"
     ]
    },
    {
     "data": {
      "text/html": [],
      "text/plain": [
       "<IPython.core.display.HTML object>"
      ]
     },
     "metadata": {},
     "output_type": "display_data"
    },
    {
     "data": {
      "text/html": [],
      "text/plain": [
       "<IPython.core.display.HTML object>"
      ]
     },
     "metadata": {},
     "output_type": "display_data"
    },
    {
     "name": "stdout",
     "output_type": "stream",
     "text": [
      "\n",
      "PCA saved to:\n",
      "/home/gabriel/Desktop/Z_e+e-_1/Z_e+e-_1/Z_e+e-_1_11638278107-1000_color_classes--_PCA.png\n",
      "\n",
      "\n",
      "31 PCA's made out of 50.\n",
      "\n",
      "2.9 minutes elapsed for 31 images.\n",
      "0.1 minutes average per image.\n",
      "1.8 minutes estimated left for 19 images.\n",
      "\n",
      "\n",
      "\n",
      "0.0 hours estimated left for 19 images.\n",
      "\n",
      "\n",
      "\n",
      "Keeping 10k points of the original DF\n",
      "First Feature importance\n",
      "Second Feature importance\n",
      "\n",
      " ----> Training with features Pz1 and Py1 \n",
      "\n",
      "8000 batch size for training.\n",
      "\n",
      "Training FCNN with layers:  [50, 50, 50, 50, 50]\n",
      "Training for 150 epochs.\n",
      "Using lr_max =  0.01\n"
     ]
    },
    {
     "data": {
      "text/html": [],
      "text/plain": [
       "<IPython.core.display.HTML object>"
      ]
     },
     "metadata": {},
     "output_type": "display_data"
    },
    {
     "data": {
      "text/html": [],
      "text/plain": [
       "<IPython.core.display.HTML object>"
      ]
     },
     "metadata": {},
     "output_type": "display_data"
    },
    {
     "name": "stdout",
     "output_type": "stream",
     "text": [
      "\n",
      "PCA saved to:\n",
      "/home/gabriel/Desktop/Z_e+e-_1/Z_e+e-_1/Z_e+e-_1_11638278113-1000_color_classes--_PCA.png\n",
      "\n",
      "\n",
      "32 PCA's made out of 50.\n",
      "\n",
      "3.0 minutes elapsed for 32 images.\n",
      "0.1 minutes average per image.\n",
      "1.7 minutes estimated left for 18 images.\n",
      "\n",
      "\n",
      "\n",
      "0.0 hours estimated left for 18 images.\n",
      "\n",
      "\n",
      "\n",
      "Keeping 10k points of the original DF\n",
      "First Feature importance\n",
      "Second Feature importance\n",
      "\n",
      " ----> Training with features Pz1 and Px1 \n",
      "\n",
      "8000 batch size for training.\n",
      "\n",
      "Training FCNN with layers:  [50, 50, 50, 50, 50]\n",
      "Training for 150 epochs.\n",
      "Using lr_max =  0.01\n"
     ]
    },
    {
     "data": {
      "text/html": [],
      "text/plain": [
       "<IPython.core.display.HTML object>"
      ]
     },
     "metadata": {},
     "output_type": "display_data"
    },
    {
     "data": {
      "text/html": [],
      "text/plain": [
       "<IPython.core.display.HTML object>"
      ]
     },
     "metadata": {},
     "output_type": "display_data"
    },
    {
     "name": "stdout",
     "output_type": "stream",
     "text": [
      "\n",
      "PCA saved to:\n",
      "/home/gabriel/Desktop/Z_e+e-_1/Z_e+e-_1/Z_e+e-_1_11638278118-1000_color_classes--_PCA.png\n",
      "\n",
      "\n",
      "33 PCA's made out of 50.\n",
      "\n",
      "3.1 minutes elapsed for 33 images.\n",
      "0.1 minutes average per image.\n",
      "1.6 minutes estimated left for 17 images.\n",
      "\n",
      "\n",
      "\n",
      "0.0 hours estimated left for 17 images.\n",
      "\n",
      "\n",
      "\n",
      "Keeping 10k points of the original DF\n",
      "First Feature importance\n",
      "Second Feature importance\n",
      "\n",
      " ----> Training with features Pz1 and Px1 \n",
      "\n",
      "8000 batch size for training.\n",
      "\n",
      "Training FCNN with layers:  [50, 50, 50, 50, 50]\n",
      "Training for 150 epochs.\n",
      "Using lr_max =  0.01\n"
     ]
    },
    {
     "data": {
      "text/html": [],
      "text/plain": [
       "<IPython.core.display.HTML object>"
      ]
     },
     "metadata": {},
     "output_type": "display_data"
    },
    {
     "data": {
      "text/html": [],
      "text/plain": [
       "<IPython.core.display.HTML object>"
      ]
     },
     "metadata": {},
     "output_type": "display_data"
    },
    {
     "name": "stdout",
     "output_type": "stream",
     "text": [
      "\n",
      "PCA saved to:\n",
      "/home/gabriel/Desktop/Z_e+e-_1/Z_e+e-_1/Z_e+e-_1_11638278124-1000_color_classes--_PCA.png\n",
      "\n",
      "\n",
      "34 PCA's made out of 50.\n",
      "\n",
      "3.2 minutes elapsed for 34 images.\n",
      "0.1 minutes average per image.\n",
      "1.5 minutes estimated left for 16 images.\n",
      "\n",
      "\n",
      "\n",
      "0.0 hours estimated left for 16 images.\n",
      "\n",
      "\n",
      "\n",
      "Keeping 10k points of the original DF\n",
      "First Feature importance\n",
      "Second Feature importance\n",
      "\n",
      " ----> Training with features Pz1 and Px1 \n",
      "\n",
      "8000 batch size for training.\n",
      "\n",
      "Training FCNN with layers:  [50, 50, 50, 50, 50]\n",
      "Training for 150 epochs.\n",
      "Using lr_max =  0.01\n"
     ]
    },
    {
     "data": {
      "text/html": [],
      "text/plain": [
       "<IPython.core.display.HTML object>"
      ]
     },
     "metadata": {},
     "output_type": "display_data"
    },
    {
     "data": {
      "text/html": [],
      "text/plain": [
       "<IPython.core.display.HTML object>"
      ]
     },
     "metadata": {},
     "output_type": "display_data"
    },
    {
     "name": "stdout",
     "output_type": "stream",
     "text": [
      "\n",
      "PCA saved to:\n",
      "/home/gabriel/Desktop/Z_e+e-_1/Z_e+e-_1/Z_e+e-_1_11638278130-1000_color_classes--_PCA.png\n",
      "\n",
      "\n",
      "35 PCA's made out of 50.\n",
      "\n",
      "3.2 minutes elapsed for 35 images.\n",
      "0.1 minutes average per image.\n",
      "1.4 minutes estimated left for 15 images.\n",
      "\n",
      "\n",
      "\n",
      "0.0 hours estimated left for 15 images.\n",
      "\n",
      "\n",
      "\n",
      "Keeping 10k points of the original DF\n",
      "First Feature importance\n",
      "Second Feature importance\n",
      "\n",
      " ----> Training with features Pz1 and Py1 \n",
      "\n",
      "8000 batch size for training.\n",
      "\n",
      "Training FCNN with layers:  [50, 50, 50, 50, 50]\n",
      "Training for 150 epochs.\n",
      "Using lr_max =  0.01\n"
     ]
    },
    {
     "data": {
      "text/html": [],
      "text/plain": [
       "<IPython.core.display.HTML object>"
      ]
     },
     "metadata": {},
     "output_type": "display_data"
    },
    {
     "data": {
      "text/html": [],
      "text/plain": [
       "<IPython.core.display.HTML object>"
      ]
     },
     "metadata": {},
     "output_type": "display_data"
    },
    {
     "name": "stdout",
     "output_type": "stream",
     "text": [
      "\n",
      "PCA saved to:\n",
      "/home/gabriel/Desktop/Z_e+e-_1/Z_e+e-_1/Z_e+e-_1_11638278136-1000_color_classes--_PCA.png\n",
      "\n",
      "\n",
      "36 PCA's made out of 50.\n",
      "\n",
      "3.3 minutes elapsed for 36 images.\n",
      "0.1 minutes average per image.\n",
      "1.3 minutes estimated left for 14 images.\n",
      "\n",
      "\n",
      "\n",
      "0.0 hours estimated left for 14 images.\n",
      "\n",
      "\n",
      "\n",
      "Keeping 10k points of the original DF\n",
      "First Feature importance\n",
      "Second Feature importance\n",
      "\n",
      " ----> Training with features Pz1 and Px1 \n",
      "\n",
      "8000 batch size for training.\n",
      "\n",
      "Training FCNN with layers:  [50, 50, 50, 50, 50]\n",
      "Training for 150 epochs.\n",
      "Using lr_max =  0.01\n"
     ]
    },
    {
     "data": {
      "text/html": [],
      "text/plain": [
       "<IPython.core.display.HTML object>"
      ]
     },
     "metadata": {},
     "output_type": "display_data"
    },
    {
     "data": {
      "text/html": [],
      "text/plain": [
       "<IPython.core.display.HTML object>"
      ]
     },
     "metadata": {},
     "output_type": "display_data"
    },
    {
     "name": "stdout",
     "output_type": "stream",
     "text": [
      "\n",
      "PCA saved to:\n",
      "/home/gabriel/Desktop/Z_e+e-_1/Z_e+e-_1/Z_e+e-_1_11638278141-1000_color_classes--_PCA.png\n",
      "\n",
      "\n",
      "37 PCA's made out of 50.\n",
      "\n",
      "3.4 minutes elapsed for 37 images.\n",
      "0.1 minutes average per image.\n",
      "1.2 minutes estimated left for 13 images.\n",
      "\n",
      "\n",
      "\n",
      "0.0 hours estimated left for 13 images.\n",
      "\n",
      "\n",
      "\n",
      "Keeping 10k points of the original DF\n",
      "First Feature importance\n",
      "Second Feature importance\n",
      "\n",
      " ----> Training with features Pz1 and Px1 \n",
      "\n",
      "8000 batch size for training.\n",
      "\n",
      "Training FCNN with layers:  [50, 50, 50, 50, 50]\n",
      "Training for 150 epochs.\n",
      "Using lr_max =  0.01\n"
     ]
    },
    {
     "data": {
      "text/html": [],
      "text/plain": [
       "<IPython.core.display.HTML object>"
      ]
     },
     "metadata": {},
     "output_type": "display_data"
    },
    {
     "data": {
      "text/html": [],
      "text/plain": [
       "<IPython.core.display.HTML object>"
      ]
     },
     "metadata": {},
     "output_type": "display_data"
    },
    {
     "name": "stdout",
     "output_type": "stream",
     "text": [
      "\n",
      "PCA saved to:\n",
      "/home/gabriel/Desktop/Z_e+e-_1/Z_e+e-_1/Z_e+e-_1_11638278146-1000_color_classes--_PCA.png\n",
      "\n",
      "\n",
      "38 PCA's made out of 50.\n",
      "\n",
      "3.5 minutes elapsed for 38 images.\n",
      "0.1 minutes average per image.\n",
      "1.1 minutes estimated left for 12 images.\n",
      "\n",
      "\n",
      "\n",
      "0.0 hours estimated left for 12 images.\n",
      "\n",
      "\n",
      "\n",
      "Keeping 10k points of the original DF\n",
      "First Feature importance\n",
      "Second Feature importance\n",
      "\n",
      " ----> Training with features Pz1 and Py1 \n",
      "\n",
      "8000 batch size for training.\n",
      "\n",
      "Training FCNN with layers:  [50, 50, 50, 50, 50]\n",
      "Training for 150 epochs.\n",
      "Using lr_max =  0.01\n"
     ]
    },
    {
     "data": {
      "text/html": [],
      "text/plain": [
       "<IPython.core.display.HTML object>"
      ]
     },
     "metadata": {},
     "output_type": "display_data"
    },
    {
     "data": {
      "text/html": [],
      "text/plain": [
       "<IPython.core.display.HTML object>"
      ]
     },
     "metadata": {},
     "output_type": "display_data"
    },
    {
     "name": "stdout",
     "output_type": "stream",
     "text": [
      "\n",
      "PCA saved to:\n",
      "/home/gabriel/Desktop/Z_e+e-_1/Z_e+e-_1/Z_e+e-_1_11638278152-1000_color_classes--_PCA.png\n",
      "\n",
      "\n",
      "39 PCA's made out of 50.\n",
      "\n",
      "3.6 minutes elapsed for 39 images.\n",
      "0.1 minutes average per image.\n",
      "1.0 minutes estimated left for 11 images.\n",
      "\n",
      "\n",
      "\n",
      "0.0 hours estimated left for 11 images.\n",
      "\n",
      "\n",
      "\n",
      "Keeping 10k points of the original DF\n",
      "First Feature importance\n",
      "Second Feature importance\n",
      "\n",
      " ----> Training with features Pz1 and Py1 \n",
      "\n",
      "8000 batch size for training.\n",
      "\n",
      "Training FCNN with layers:  [50, 50, 50, 50, 50]\n",
      "Training for 150 epochs.\n",
      "Using lr_max =  0.01\n"
     ]
    },
    {
     "data": {
      "text/html": [],
      "text/plain": [
       "<IPython.core.display.HTML object>"
      ]
     },
     "metadata": {},
     "output_type": "display_data"
    },
    {
     "data": {
      "text/html": [],
      "text/plain": [
       "<IPython.core.display.HTML object>"
      ]
     },
     "metadata": {},
     "output_type": "display_data"
    },
    {
     "name": "stdout",
     "output_type": "stream",
     "text": [
      "\n",
      "PCA saved to:\n",
      "/home/gabriel/Desktop/Z_e+e-_1/Z_e+e-_1/Z_e+e-_1_11638278157-1000_color_classes--_PCA.png\n",
      "\n",
      "\n",
      "40 PCA's made out of 50.\n",
      "\n",
      "3.7 minutes elapsed for 40 images.\n",
      "0.1 minutes average per image.\n",
      "0.9 minutes estimated left for 10 images.\n",
      "\n",
      "\n",
      "\n",
      "0.0 hours estimated left for 10 images.\n",
      "\n",
      "\n",
      "\n",
      "Keeping 10k points of the original DF\n",
      "First Feature importance\n",
      "Second Feature importance\n",
      "\n",
      " ----> Training with features Pz1 and Py1 \n",
      "\n",
      "8000 batch size for training.\n",
      "\n",
      "Training FCNN with layers:  [50, 50, 50, 50, 50]\n",
      "Training for 150 epochs.\n",
      "Using lr_max =  0.01\n"
     ]
    },
    {
     "data": {
      "text/html": [],
      "text/plain": [
       "<IPython.core.display.HTML object>"
      ]
     },
     "metadata": {},
     "output_type": "display_data"
    },
    {
     "data": {
      "text/html": [],
      "text/plain": [
       "<IPython.core.display.HTML object>"
      ]
     },
     "metadata": {},
     "output_type": "display_data"
    },
    {
     "name": "stdout",
     "output_type": "stream",
     "text": [
      "\n",
      "PCA saved to:\n",
      "/home/gabriel/Desktop/Z_e+e-_1/Z_e+e-_1/Z_e+e-_1_11638278163-1000_color_classes--_PCA.png\n",
      "\n",
      "\n",
      "41 PCA's made out of 50.\n",
      "\n",
      "3.8 minutes elapsed for 41 images.\n",
      "0.1 minutes average per image.\n",
      "0.8 minutes estimated left for 9 images.\n",
      "\n",
      "\n",
      "\n",
      "0.0 hours estimated left for 9 images.\n",
      "\n",
      "\n",
      "\n",
      "Keeping 10k points of the original DF\n",
      "First Feature importance\n",
      "Second Feature importance\n",
      "\n",
      " ----> Training with features Pz1 and Py1 \n",
      "\n",
      "8000 batch size for training.\n",
      "\n",
      "Training FCNN with layers:  [50, 50, 50, 50, 50]\n",
      "Training for 150 epochs.\n",
      "Using lr_max =  0.01\n"
     ]
    },
    {
     "data": {
      "text/html": [],
      "text/plain": [
       "<IPython.core.display.HTML object>"
      ]
     },
     "metadata": {},
     "output_type": "display_data"
    },
    {
     "data": {
      "text/html": [],
      "text/plain": [
       "<IPython.core.display.HTML object>"
      ]
     },
     "metadata": {},
     "output_type": "display_data"
    },
    {
     "name": "stdout",
     "output_type": "stream",
     "text": [
      "\n",
      "PCA saved to:\n",
      "/home/gabriel/Desktop/Z_e+e-_1/Z_e+e-_1/Z_e+e-_1_11638278169-1000_color_classes--_PCA.png\n",
      "\n",
      "\n",
      "42 PCA's made out of 50.\n",
      "\n",
      "3.9 minutes elapsed for 42 images.\n",
      "0.1 minutes average per image.\n",
      "0.7 minutes estimated left for 8 images.\n",
      "\n",
      "\n",
      "\n",
      "0.0 hours estimated left for 8 images.\n",
      "\n",
      "\n",
      "\n",
      "Keeping 10k points of the original DF\n",
      "First Feature importance\n",
      "Second Feature importance\n",
      "\n",
      " ----> Training with features Pz1 and Py1 \n",
      "\n",
      "8000 batch size for training.\n",
      "\n",
      "Training FCNN with layers:  [50, 50, 50, 50, 50]\n",
      "Training for 150 epochs.\n",
      "Using lr_max =  0.01\n"
     ]
    },
    {
     "data": {
      "text/html": [],
      "text/plain": [
       "<IPython.core.display.HTML object>"
      ]
     },
     "metadata": {},
     "output_type": "display_data"
    },
    {
     "data": {
      "text/html": [],
      "text/plain": [
       "<IPython.core.display.HTML object>"
      ]
     },
     "metadata": {},
     "output_type": "display_data"
    },
    {
     "name": "stdout",
     "output_type": "stream",
     "text": [
      "\n",
      "PCA saved to:\n",
      "/home/gabriel/Desktop/Z_e+e-_1/Z_e+e-_1/Z_e+e-_1_11638278174-1000_color_classes--_PCA.png\n",
      "\n",
      "\n",
      "43 PCA's made out of 50.\n",
      "\n",
      "4.0 minutes elapsed for 43 images.\n",
      "0.1 minutes average per image.\n",
      "0.7 minutes estimated left for 7 images.\n",
      "\n",
      "\n",
      "\n",
      "0.0 hours estimated left for 7 images.\n",
      "\n",
      "\n",
      "\n",
      "Keeping 10k points of the original DF\n",
      "First Feature importance\n",
      "Second Feature importance\n",
      "\n",
      " ----> Training with features Pz1 and Py1 \n",
      "\n",
      "8000 batch size for training.\n",
      "\n",
      "Training FCNN with layers:  [50, 50, 50, 50, 50]\n",
      "Training for 150 epochs.\n",
      "Using lr_max =  0.01\n"
     ]
    },
    {
     "data": {
      "text/html": [],
      "text/plain": [
       "<IPython.core.display.HTML object>"
      ]
     },
     "metadata": {},
     "output_type": "display_data"
    },
    {
     "data": {
      "text/html": [],
      "text/plain": [
       "<IPython.core.display.HTML object>"
      ]
     },
     "metadata": {},
     "output_type": "display_data"
    },
    {
     "name": "stdout",
     "output_type": "stream",
     "text": [
      "\n",
      "PCA saved to:\n",
      "/home/gabriel/Desktop/Z_e+e-_1/Z_e+e-_1/Z_e+e-_1_11638278180-1000_color_classes--_PCA.png\n",
      "\n",
      "\n",
      "44 PCA's made out of 50.\n",
      "\n",
      "4.1 minutes elapsed for 44 images.\n",
      "0.1 minutes average per image.\n",
      "0.6 minutes estimated left for 6 images.\n",
      "\n",
      "\n",
      "\n",
      "0.0 hours estimated left for 6 images.\n",
      "\n",
      "\n",
      "\n",
      "Keeping 10k points of the original DF\n",
      "First Feature importance\n",
      "Second Feature importance\n",
      "\n",
      " ----> Training with features Pz1 and Py1 \n",
      "\n",
      "8000 batch size for training.\n",
      "\n",
      "Training FCNN with layers:  [50, 50, 50, 50, 50]\n",
      "Training for 150 epochs.\n",
      "Using lr_max =  0.01\n"
     ]
    },
    {
     "data": {
      "text/html": [],
      "text/plain": [
       "<IPython.core.display.HTML object>"
      ]
     },
     "metadata": {},
     "output_type": "display_data"
    },
    {
     "data": {
      "text/html": [],
      "text/plain": [
       "<IPython.core.display.HTML object>"
      ]
     },
     "metadata": {},
     "output_type": "display_data"
    },
    {
     "name": "stdout",
     "output_type": "stream",
     "text": [
      "\n",
      "PCA saved to:\n",
      "/home/gabriel/Desktop/Z_e+e-_1/Z_e+e-_1/Z_e+e-_1_11638278185-1000_color_classes--_PCA.png\n",
      "\n",
      "\n",
      "45 PCA's made out of 50.\n",
      "\n",
      "4.2 minutes elapsed for 45 images.\n",
      "0.1 minutes average per image.\n",
      "0.5 minutes estimated left for 5 images.\n",
      "\n",
      "\n",
      "\n",
      "0.0 hours estimated left for 5 images.\n",
      "\n",
      "\n",
      "\n",
      "Keeping 10k points of the original DF\n",
      "First Feature importance\n",
      "Second Feature importance\n",
      "\n",
      " ----> Training with features Pz1 and Px1 \n",
      "\n",
      "8000 batch size for training.\n",
      "\n",
      "Training FCNN with layers:  [50, 50, 50, 50, 50]\n",
      "Training for 150 epochs.\n",
      "Using lr_max =  0.01\n"
     ]
    },
    {
     "data": {
      "text/html": [],
      "text/plain": [
       "<IPython.core.display.HTML object>"
      ]
     },
     "metadata": {},
     "output_type": "display_data"
    },
    {
     "data": {
      "text/html": [],
      "text/plain": [
       "<IPython.core.display.HTML object>"
      ]
     },
     "metadata": {},
     "output_type": "display_data"
    },
    {
     "name": "stdout",
     "output_type": "stream",
     "text": [
      "\n",
      "PCA saved to:\n",
      "/home/gabriel/Desktop/Z_e+e-_1/Z_e+e-_1/Z_e+e-_1_11638278191-1000_color_classes--_PCA.png\n",
      "\n",
      "\n",
      "46 PCA's made out of 50.\n",
      "\n",
      "4.3 minutes elapsed for 46 images.\n",
      "0.1 minutes average per image.\n",
      "0.4 minutes estimated left for 4 images.\n",
      "\n",
      "\n",
      "\n",
      "0.0 hours estimated left for 4 images.\n",
      "\n",
      "\n",
      "\n",
      "Keeping 10k points of the original DF\n",
      "First Feature importance\n",
      "Second Feature importance\n",
      "\n",
      " ----> Training with features Pz1 and Px1 \n",
      "\n",
      "8000 batch size for training.\n",
      "\n",
      "Training FCNN with layers:  [50, 50, 50, 50, 50]\n",
      "Training for 150 epochs.\n",
      "Using lr_max =  0.01\n"
     ]
    },
    {
     "data": {
      "text/html": [],
      "text/plain": [
       "<IPython.core.display.HTML object>"
      ]
     },
     "metadata": {},
     "output_type": "display_data"
    },
    {
     "data": {
      "text/html": [],
      "text/plain": [
       "<IPython.core.display.HTML object>"
      ]
     },
     "metadata": {},
     "output_type": "display_data"
    },
    {
     "name": "stdout",
     "output_type": "stream",
     "text": [
      "\n",
      "PCA saved to:\n",
      "/home/gabriel/Desktop/Z_e+e-_1/Z_e+e-_1/Z_e+e-_1_11638278196-1000_color_classes--_PCA.png\n",
      "\n",
      "\n",
      "47 PCA's made out of 50.\n",
      "\n",
      "4.4 minutes elapsed for 47 images.\n",
      "0.1 minutes average per image.\n",
      "0.3 minutes estimated left for 3 images.\n",
      "\n",
      "\n",
      "\n",
      "0.0 hours estimated left for 3 images.\n",
      "\n",
      "\n",
      "\n",
      "Keeping 10k points of the original DF\n",
      "First Feature importance\n",
      "Second Feature importance\n",
      "\n",
      " ----> Training with features Pz1 and Py1 \n",
      "\n",
      "8000 batch size for training.\n",
      "\n",
      "Training FCNN with layers:  [50, 50, 50, 50, 50]\n",
      "Training for 150 epochs.\n",
      "Using lr_max =  0.01\n"
     ]
    },
    {
     "data": {
      "text/html": [],
      "text/plain": [
       "<IPython.core.display.HTML object>"
      ]
     },
     "metadata": {},
     "output_type": "display_data"
    },
    {
     "data": {
      "text/html": [],
      "text/plain": [
       "<IPython.core.display.HTML object>"
      ]
     },
     "metadata": {},
     "output_type": "display_data"
    },
    {
     "name": "stdout",
     "output_type": "stream",
     "text": [
      "\n",
      "PCA saved to:\n",
      "/home/gabriel/Desktop/Z_e+e-_1/Z_e+e-_1/Z_e+e-_1_11638278202-1000_color_classes--_PCA.png\n",
      "\n",
      "\n",
      "48 PCA's made out of 50.\n",
      "\n",
      "4.5 minutes elapsed for 48 images.\n",
      "0.1 minutes average per image.\n",
      "0.2 minutes estimated left for 2 images.\n",
      "\n",
      "\n",
      "\n",
      "0.0 hours estimated left for 2 images.\n",
      "\n",
      "\n",
      "\n",
      "Keeping 10k points of the original DF\n",
      "First Feature importance\n",
      "Second Feature importance\n",
      "\n",
      " ----> Training with features Pz1 and Py1 \n",
      "\n",
      "8000 batch size for training.\n",
      "\n",
      "Training FCNN with layers:  [50, 50, 50, 50, 50]\n",
      "Training for 150 epochs.\n",
      "Using lr_max =  0.01\n"
     ]
    },
    {
     "data": {
      "text/html": [],
      "text/plain": [
       "<IPython.core.display.HTML object>"
      ]
     },
     "metadata": {},
     "output_type": "display_data"
    },
    {
     "data": {
      "text/html": [],
      "text/plain": [
       "<IPython.core.display.HTML object>"
      ]
     },
     "metadata": {},
     "output_type": "display_data"
    },
    {
     "name": "stdout",
     "output_type": "stream",
     "text": [
      "\n",
      "PCA saved to:\n",
      "/home/gabriel/Desktop/Z_e+e-_1/Z_e+e-_1/Z_e+e-_1_11638278208-1000_color_classes--_PCA.png\n",
      "\n",
      "\n",
      "49 PCA's made out of 50.\n",
      "\n",
      "4.5 minutes elapsed for 49 images.\n",
      "0.1 minutes average per image.\n",
      "0.1 minutes estimated left for 1 images.\n",
      "\n",
      "\n",
      "\n",
      "0.0 hours estimated left for 1 images.\n",
      "\n",
      "\n",
      "\n",
      "Keeping 10k points of the original DF\n",
      "First Feature importance\n",
      "Second Feature importance\n",
      "\n",
      " ----> Training with features Pz1 and Px1 \n",
      "\n",
      "8000 batch size for training.\n",
      "\n",
      "Training FCNN with layers:  [50, 50, 50, 50, 50]\n",
      "Training for 150 epochs.\n",
      "Using lr_max =  0.01\n"
     ]
    },
    {
     "data": {
      "text/html": [],
      "text/plain": [
       "<IPython.core.display.HTML object>"
      ]
     },
     "metadata": {},
     "output_type": "display_data"
    },
    {
     "data": {
      "text/html": [],
      "text/plain": [
       "<IPython.core.display.HTML object>"
      ]
     },
     "metadata": {},
     "output_type": "display_data"
    },
    {
     "name": "stdout",
     "output_type": "stream",
     "text": [
      "\n",
      "PCA saved to:\n",
      "/home/gabriel/Desktop/Z_e+e-_1/Z_e+e-_1/Z_e+e-_1_11638278213-1000_color_classes--_PCA.png\n",
      "\n",
      "\n",
      "50 PCA's made out of 50.\n",
      "\n",
      "4.6 minutes elapsed for 50 images.\n",
      "0.1 minutes average per image.\n",
      "0.0 minutes estimated left for 0 images.\n",
      "\n",
      "\n",
      "\n",
      "0.0 hours estimated left for 0 images.\n",
      "\n",
      "\n",
      "\n"
     ]
    }
   ],
   "source": [
    "target = 'diff_sigma'  # Nombre de la variable que queremos predecir\n",
    "rep_todo = 50        # Veces que se repite todo el algoritmo. Cuantas más veces, más se acerca el promedio a la simetría\n",
    "nombre_carpeta = 'Z_e+e-_1' # Nombre de la subcarpeta donde vamos a guardar las PCAs, dentro de la carpeta grande. Así podemos anazar al mismo tiempo varias bases de datos\n",
    "\n",
    "small = True # My Interactions Small (true) or complete (false): Función de interacciones. Small tiene menos combinaciones.\n",
    "\n",
    "\n",
    "# Tiempo en el que empezamos a ejecutar el código. Hay que importar time así porque existe el módulo time en fastai\n",
    "from time import time\n",
    "start_time = time()\n",
    "\n",
    "\n",
    "tags = [nombre_carpeta for i in range(rep_todo)]\n",
    "\n",
    "for rtd in range(rep_todo):\n",
    "    \n",
    "    df = df_e.copy() # df_e lo hemos creado antes, contiene todas las features que queremos analizar, con las categóricas cambiadas por números (embedding)\n",
    "    \n",
    "    from fastai.vision.all import *\n",
    "    from time import time\n",
    "    from IPython.utils import io\n",
    "\n",
    "    int_1 = False      #Interactions in Feature Importance 1 \n",
    "    int_2 = False      #Interactions in Feature Importance 2 \n",
    "    select_10k = True  #Keep only 10000 elements of the original DF\n",
    "\n",
    "    # ------------------- Folder PCA ------------------- #\n",
    "\n",
    "    folder = 'Z_e+e-_1'       # Carpeta donde se guardan las subcarpetas con las PCAs\n",
    "\n",
    "    \n",
    "    # Si no hay, creamos ese directorio\n",
    "    dd = top_dir + '/' + folder\n",
    "    if not os.path.isdir(dd):\n",
    "        print('Creating directory:\\n',dd)\n",
    "        os.mkdir(dd)\n",
    "\n",
    "    dir = os.path.join(top_dir,folder)\n",
    "\n",
    "    \n",
    "    # ------------------- No prints al guardar mejor modelo (fastai) ------------------- # \n",
    "    # Solo hay un print que se ha eliminado del código original\n",
    "\n",
    "    class SaveModelCallback(TrackerCallback):\n",
    "        \"A `TrackerCallback` that saves the model's best during training and loads it at the end.\"\n",
    "        _only_train_loop = True\n",
    "        def __init__(self, monitor='valid_loss', comp=None, min_delta=0., fname='model', every_epoch=False, at_end=False,\n",
    "                     with_opt=False, reset_on_fit=True):\n",
    "            super().__init__(monitor=monitor, comp=comp, min_delta=min_delta, reset_on_fit=reset_on_fit)\n",
    "            assert not (every_epoch and at_end), \"every_epoch and at_end cannot both be set to True\"\n",
    "            # keep track of file path for loggers\n",
    "            self.last_saved_path = None\n",
    "            store_attr('fname,every_epoch,at_end,with_opt')\n",
    "\n",
    "        def _save(self, name): self.last_saved_path = self.learn.save(name, with_opt=self.with_opt)\n",
    "\n",
    "        def after_epoch(self):\n",
    "            \"Compare the value monitored to its best score and save if best.\"\n",
    "            if self.every_epoch: self._save(f'{self.fname}_{self.epoch}')\n",
    "            else: #every improvement\n",
    "                super().after_epoch()\n",
    "                if self.new_best:\n",
    "                    #print(f'Better model found at epoch {self.epoch} with {self.monitor} value: {self.best}.')\n",
    "                    self._save(f'{self.fname}')\n",
    "\n",
    "        def after_fit(self, **kwargs):\n",
    "            \"Load the best model.\"\n",
    "            if self.at_end: self._save(f'{self.fname}')\n",
    "            elif not self.every_epoch: self.learn.load(f'{self.fname}', with_opt=self.with_opt)\n",
    "\n",
    "    # ---------------- Definiciones previas e hiperparámetros ----------------- #\n",
    "\n",
    "    # Hyperparameters: \n",
    "    bs_choices = [50000]       # Batch Size\n",
    "    shape='pipe'               # Shape of the neural network\n",
    "    layers_choices = [5]       # Number of layers of the net. Default:10 or 5. Better results with 5.\n",
    "    neurons_choices = [50]    # Number of neurons per layer. Default:200, 100 or 50. Better results with 50.\n",
    "    epoch_choices = [150]      # Number of training epochs. Default:[100 -> 200]. Better results with 150.\n",
    "    lr_choices = [0.01]       # Max learning rate. Default 0.01.\n",
    "    valid_pct=0.2              # Part of the data that goes into validation (0.2 = 20%)\n",
    "    monitor= 'valid_loss'        # Te model with the least 'monitor' will be saved. Default: 'valid_loss'\n",
    "\n",
    "\n",
    "\n",
    "    # ---------------------- Entrenar Red Y PCA -----------------------------------#\n",
    "\n",
    "    j = 1 # Usaremos esto para saber cuantos potenciales hemos procesado, y como indice en general\n",
    "\n",
    "\n",
    "    #----------- Selecting just 10k values -------------#\n",
    "\n",
    "    if select_10k == True:\n",
    "        if len(df[target]) <= 100*100:\n",
    "            print('Too little data to keep 10k points and delete the rest')\n",
    "        else:\n",
    "            print('Keeping 10k points of the original DF')\n",
    "            remove_n = len(df[target]) - 10000\n",
    "            drop_indices = np.random.choice(df.index, remove_n, replace=False)\n",
    "            df_temp = df.drop(drop_indices)\n",
    "            df = df_temp.copy()\n",
    "\n",
    "\n",
    "    #----------- Feature Importance inicial -------------#\n",
    "    \n",
    "    print('First Feature importance')\n",
    "\n",
    "    small_df = df.copy()\n",
    "    \n",
    "    n_f = len(small_df)\n",
    "\n",
    "    \n",
    "    # Si queremos interacciones en todo el dataframe\n",
    "    if int_1 == True:\n",
    "\n",
    "        small_df = small_df.drop(target, axis = 1) # Drop the target\n",
    "        \n",
    "        # Interactions\n",
    "        if small == True: small_df = my_interactions_small(small_df.astype(np.float32), numo_int = int(len(small_df.columns)/2 + 1), verbose = True)\n",
    "        else: small_df = my_interactions(small_df.astype(np.float32), numo_int = int(len(small_df.columns)/2 + 1), verbose = True)\n",
    "\n",
    "        small_df[target] = df[target] # Return the target\n",
    "\n",
    "\n",
    "    #Feature Importance with Random Forests\n",
    "    best_feat, imp = fast_feat_imp_rf(small_df.astype(np.float32),target = target, graph = False)\n",
    "    # Correlation of the best variables between them\n",
    "    cm_rf = small_df[best_feat[:n_f]].corr()\n",
    "    \n",
    "    # Función que tiene en cuenta la importancia de las variables y la correlación con la primera más importante\n",
    "    corr_imp = np.exp(np.array(imp[:n_f]))*((1-np.abs(cm_rf.iloc[:,0])))\n",
    "    \n",
    "    # Dos mejores variables: La más importante y la que mejor puntúa en la función anterior\n",
    "    two_best = [best_feat[0],(corr_imp.iloc[1:].sort_values()).index[-1]]\n",
    "\n",
    "    small_df = small_df[two_best]\n",
    "\n",
    "\n",
    "\n",
    "    #----------- Second Feature Importance (si procede) -------------#\n",
    "    print('Second Feature importance')\n",
    "    \n",
    "\n",
    "    # Con las dos features que hemos seleccionado, podemos hacer muchas interacciones para ver si una combinación de ellas predice\n",
    "    # mejor el potencial que estas dos features solas. No suele funcionar muy bien para encontrar la simetría.\n",
    "    if int_2 == True:\n",
    "        n_f = 10\n",
    "        small_df = my_interactions(small_df.astype(np.float32), numo_int = len(small_df.columns), verbose = False)\n",
    "\n",
    "        small_df[target] = df[target]\n",
    "        best_feat, imp = fast_feat_imp_rf(small_df.astype(np.float32),target = target, graph = False)\n",
    "        cm_rf = small_df[best_feat[:n_f]].corr()\n",
    "\n",
    "        corr_imp = np.exp(np.array(imp[:n_f]))*((1-np.abs(cm_rf.iloc[:,0])))\n",
    "\n",
    "        two_best_2 = [best_feat[0],(corr_imp.iloc[1:].sort_values()).index[-1]]\n",
    "    else:\n",
    "        two_best_2 = two_best\n",
    "\n",
    "\n",
    "    small_df[target] = df[target] # Devolvemos el target otra vez\n",
    "  \n",
    "    print('\\n ----> Training with features {} and {} \\n'.format(two_best_2[0],two_best_2[1]))\n",
    "\n",
    "    df2 = small_df.copy() \n",
    "    \n",
    "    # Normalizamos por el valor más grande todas las features y el objetivo\n",
    "    df2[two_best_2[0]] = df2[two_best_2[0]]/np.max(np.abs(df2[two_best_2[0]]))\n",
    "    df2[two_best_2[1]] = df2[two_best_2[1]]/np.max(np.abs(df2[two_best_2[1]]))\n",
    "    df2[target] = df2[target]/np.max(np.abs(df2[target]))\n",
    "\n",
    "    splits = RandomSplitter(valid_pct=valid_pct)(range_of(df2))\n",
    "\n",
    "    to = TabularPandas(df2,\n",
    "                    procs=[Categorify,FillMissing, Normalize],\n",
    "                    cont_names = two_best_2,\n",
    "                    y_names = target,\n",
    "                    splits=splits)\n",
    "\n",
    "    train_size = len(splits[0])\n",
    "    valid_size = len(splits[1])\n",
    "\n",
    "    # ----------------- Hyperparameters ------------------- #\n",
    "\n",
    "    # Batch Size (a large one)\n",
    "    bs=min(random.choice(bs_choices),train_size)  \n",
    "    print('{} batch size for training.\\n'.format(bs))\n",
    "\n",
    "    # Neurons per layer\n",
    "    neurons_per_layer = random.choice(neurons_choices)\n",
    "\n",
    "    # Number of layers\n",
    "    n_layers = random.choice(layers_choices)\n",
    "\n",
    "    #Shape of the net: Pipe or funnel\n",
    "    if shape == 'pipe':\n",
    "        layers=[neurons_per_layer for i in range(n_layers)]\n",
    "\n",
    "    if shape == 'funnel':\n",
    "        n_eff = n_layers\n",
    "        layers = np.clip(sum([[2**(n_layers-i+2)] for i in range(0,n_layers,1)],[]),2,neurons_per_layer).tolist()\n",
    "\n",
    "    print('Training FCNN with layers: ',layers)\n",
    "\n",
    "    #Number of epochs\n",
    "    n_epoch=random.choice(epoch_choices)\n",
    "    print('Training for {} epochs.'.format(n_epoch))\n",
    "\n",
    "    # Maximum Learning Rate: (a good value can be found using learn.lr_find())\n",
    "    lr_max=float(random.choice(lr_choices))\n",
    "    print('Using lr_max = ',format(lr_max))\n",
    "\n",
    "    # ----------------------------------------------------- #\n",
    "\n",
    "    # --------------- Training the FCNN --------------------#\n",
    "\n",
    "    # Load the data into a DataLoader\n",
    "    dls = to.dataloaders(bs=bs)\n",
    "\n",
    "    # Define a Tabular Learner\n",
    "    learn = tabular_learner(dls, layers=layers\n",
    "                        #,config=config\n",
    "                        #,metrics=[mse],\n",
    "                        #y_range = [min(df[target]),max(df[target])],\n",
    "                        #,cbs=ShowGraphCallback()\n",
    "                        #,train_bn=False)\n",
    "                        )\n",
    "\n",
    "    # Train the net \n",
    "    with learn.no_logging():\n",
    "        learn.fit_one_cycle(n_epoch=n_epoch\n",
    "                            ,lr_max=lr_max\n",
    "                            ,cbs=[SaveModelCallback(monitor=monitor)]\n",
    "                            )\n",
    "\n",
    "\n",
    "    # ------------------------------------------------------#\n",
    "\n",
    "\n",
    "    # ------------------------- PCA ------------------------#\n",
    "\n",
    "    test_df = df2.copy()\n",
    "    dl = learn.dls.test_dl(test_df,bs=int(test_df.shape[0])) \n",
    "\n",
    "    # Tenemos que hacer un Hook, una especie de gancho que enganchamos en la última capa interna,\n",
    "    # para guardar, de cada modelo, los valores de los parámetro de dicha capa. \n",
    "    with Hooks(learn.model.layers, lambda m,i,o: o) as h:\n",
    "        preds = learn.get_preds(dl=dl,with_input=True,with_decoded=True,with_loss=True)\n",
    "\n",
    "    targets=preds[2].numpy().flatten()\n",
    "\n",
    "    # Cogemos la información de la penúltima capa\n",
    "    # OJO: Si añadimos y_range, se añade automaticamente una sigmoid\n",
    "    # al final, por lo que tendríamos que coger la capa -3 en vez de la -2\n",
    "    act = h.stored[-2] \n",
    "    multi_dim=Tensor.cpu(act).numpy()\n",
    "    standardized=StandardScaler().fit_transform(multi_dim)\n",
    "\n",
    "    viz = PCA(2).fit_transform(np.nan_to_num(standardized))\n",
    "    #plt.figure()\n",
    "    #plt.scatter(viz[:, 0], viz[:, 1],c=targets[:multi_dim.shape[0]],alpha=.1, marker = 'o')\n",
    "\n",
    "\n",
    "    # ------------------------------------------------------ #\n",
    "\n",
    "    # ------------------ Saving the PCA's ------------------ #\n",
    "\n",
    "    # ---- Dar formato a PCA para guardar como imagen con color\n",
    "\n",
    "    viz = pd.DataFrame(viz) #Transformamos la PCA en un dataframe\n",
    "    viz.columns = ['x','y'] #Nombres de las columnas\n",
    "\n",
    "    # Insertamos una columna con los colores de los puntos. El valor del potencial\n",
    "    # objetivo (targets) es el color, y hay un color por cada punto \n",
    "    viz.insert(2,'class',targets[:multi_dim.shape[0]]) \n",
    "\n",
    "    # ---- Personalizar mapa de color \n",
    "\n",
    "    n_classes=1000\n",
    "\n",
    "    colors = 'rainbow'\n",
    "\n",
    "    if colors == 'rainbow':\n",
    "        my_cmap = plt.cm.get_cmap('rainbow', n_classes)\n",
    "        classes_in_rgb = my_cmap(range(n_classes))\n",
    "    if colors == 'purple':\n",
    "        my_cmap = plt.cm.get_cmap('rainbow', n_classes)\n",
    "        classes_in_rgb = np.vstack((np.array([0,0,0,0]),my_cmap([0 for i in range(n_classes)])))\n",
    "\n",
    "    # ---- Hacer que la intensidad del pixel represente la cantidad de puntos \n",
    "    #      acumuldos en un pixel\n",
    "\n",
    "    n_pixels = 224\n",
    "\n",
    "    binning_3d=np.histogramdd([viz['x'],viz['y'],viz['class']],range=(None,None,(0,1)), bins=(n_pixels,n_pixels,n_classes))\n",
    "\n",
    "    #if we want the pixel intensity to reprensent the number of points at that location\n",
    "    array = np.dot(binning_3d[0],classes_in_rgb)\n",
    "    array = array/np.amax(array)\n",
    "\n",
    "    # ---- Guardar la PCA\n",
    "\n",
    "    #Directorio donde guardaremos las imagenes\n",
    "    dir_sym = os.path.join(dir,tags[j-1])\n",
    "    if not os.path.isdir(dir_sym):\n",
    "        print('Creating directory:\\n',dir_sym)\n",
    "        os.mkdir(dir_sym)\n",
    "\n",
    "\n",
    "    # Nombre de la imagen. Pongo el tiempo para que todas se llamen distinto cada vez.\n",
    "    img_file = str(tags[j-1])+'_'+str(j)+str(round(time()))+'-'+str(n_classes)+'_'+'color_classes--'+'_PCA.png' \n",
    "    output_dir = os.path.join(dir_sym,img_file) # Directorio donde guardamos la imagen\n",
    "    plt.imsave(output_dir,array) # Guardar\n",
    "    print('\\nPCA saved to:\\n{}\\n'.format(dir_sym+'/'+img_file))\n",
    "\n",
    "    # ------------------------ Time -------------------------#\n",
    "\n",
    "    minutes_until_now = (time() - start_time)/60\n",
    "    images_done = j+rtd\n",
    "    minutes_per_image = minutes_until_now/(images_done)\n",
    "    hours_left = minutes_per_image * (rep_todo-images_done)/60\n",
    "    print(\"\\n{} PCA's made out of {}.\\n\".format(images_done,rep_todo))\n",
    "    print(\"{:.1f} minutes elapsed for {} images.\".format(minutes_until_now,images_done))\n",
    "    print(\"{:.1f} minutes average per image.\".format(minutes_until_now/images_done))\n",
    "    print(\"{:.1f} minutes estimated left for {} images.\\n\\n\\n\".format(hours_left*60,rep_todo-images_done))\n",
    "    print(\"{:.1f} hours estimated left for {} images.\\n\\n\\n\".format(hours_left,rep_todo-images_done))\n",
    "    j+=1\n",
    "\n",
    "\n",
    "  # ------------------------------------------------------#"
   ]
  },
  {
   "cell_type": "code",
   "execution_count": 14,
   "id": "diagnostic-addiction",
   "metadata": {},
   "outputs": [
    {
     "data": {
      "text/html": [
       "<style>.container { width:100% !important; } div.cell.selected {border-left-width: 0px !important;}</style>"
      ],
      "text/plain": [
       "<IPython.core.display.HTML object>"
      ]
     },
     "metadata": {},
     "output_type": "display_data"
    },
    {
     "name": "stdout",
     "output_type": "stream",
     "text": [
      "Notebook directory: /home/gabriel/Desktop\n",
      "Numero Imagenes: 90\n",
      "['Z_e+e-_1']\n",
      "['continuous_rotation', 'continuous_translation', 'discrete_translation', 'none', 'reflection']\n",
      "[0.29182145 0.02794178 0.62747485 0.02896556 0.02379636]\n"
     ]
    },
    {
     "data": {
      "image/png": "[encoded data removed]",
      "text/plain": [
       "<Figure size 288x216 with 1 Axes>"
      ]
     },
     "metadata": {
      "image/png": {
       "height": 336,
       "width": 260
      },
      "needs_background": "light"
     },
     "output_type": "display_data"
    }
   ],
   "source": [
    "nom_carp = 'Z_e+e-_1'\n",
    "\n",
    "#import libraries\n",
    "%config InlineBackend.figure_format = 'retina'\n",
    "import seaborn as sns\n",
    "from IPython.core.display import display, HTML, clear_output\n",
    "display(HTML(\"<style>.container { width:100% !important; } div.cell.selected {border-left-width: 0px !important;}</style>\"))\n",
    "\n",
    "from time import time\n",
    "import os\n",
    "import glob\n",
    "from fastai.vision.all import *\n",
    "import numpy as np\n",
    "from IPython.display import clear_output\n",
    "import itertools as it\n",
    "import more_itertools\n",
    "#import torchvision.models\n",
    "import plotly.express as px\n",
    "from plotly.subplots import make_subplots\n",
    "import plotly.graph_objects as go\n",
    "import plotly.io as pio\n",
    "pio.templates.default =\"none\"\n",
    "import base64\n",
    "from PIL import Image\n",
    "from io import BytesIO\n",
    "import torch\n",
    "import gc\n",
    "#import libraries\n",
    "\n",
    "if not 'notebook_dir' in globals():\n",
    "    notebook_dir = os.getcwd()\n",
    "print('Notebook directory: ' + notebook_dir)\n",
    "os.chdir(notebook_dir)  # If you changed the current working dir, this will take you back to the workbook dir.\n",
    "top_dir = notebook_dir\n",
    "\n",
    "\n",
    "\n",
    "learn = load_learner('/home/gabriel/Desktop/models/model_90_accu_resnet18_one_cycle_10+5_no_mixup'+'.pkl', cpu=False)\n",
    "     \n",
    "\n",
    "#Reset Registro\n",
    "\n",
    "registro = pd.DataFrame({\n",
    "    'Col_Quit':[0], 'Run':[0],\n",
    "    'continuous_rotation':[0], 'continuous_translation':[0], 'discrete_translation':[0], 'none':[0], 'reflection':[0]\n",
    "})\n",
    "registro = registro.drop(0)\n",
    "#registro\n",
    "\n",
    "sims = pd.DataFrame(columns = learn.dls.vocab)\n",
    "errs = sims.copy()\n",
    "\n",
    "num_img_cat = [] #guardo el numero de imagenes de cada categoria\n",
    "i = 0\n",
    "plote = False\n",
    "\n",
    "from IPython.utils import io\n",
    "\n",
    "\n",
    "\n",
    "for dires in np.sort(Path('/home/gabriel/Desktop/' + nom_carp).ls()):\n",
    "    #path = Path('/home/gabriel/Desktop/PCA_INE_sexo/INE/'+quitadas)\n",
    "    quitadas = str(dires).split('/')[-1]\n",
    "    with io.capture_output() as captured:\n",
    "        for ima in dires.ls():\n",
    "\n",
    "            test_im_dir = ima\n",
    "\n",
    "            im = PILImage.create(test_im_dir)\n",
    "\n",
    "            # Orden: ['continuous_rotation', 'continuous_translation', 'discrete_translation', 'none', 'reflection']\n",
    "\n",
    "            cate, num_cat, probs = learn.predict(im)\n",
    "\n",
    "\n",
    "            '''\n",
    "            if plote == True:\n",
    "                plt.figure\n",
    "                plt.figure(figsize=(4, 3))\n",
    "                plt.title(ima)\n",
    "                plt.bar(['continuous_rotation', 'continuous_translation', 'discrete_translation', 'none', 'reflection'],probs)\n",
    "                plt.xticks(rotation='vertical',fontsize = 12)\n",
    "                plt.show()\n",
    "            '''\n",
    "\n",
    "            new_row = np.array([quitadas, i] + list(np.array(probs).astype(float))).reshape([1,-1])\n",
    "            aden = pd.DataFrame(new_row,columns=registro.columns)\n",
    "\n",
    "            registro = registro.append(aden, ignore_index=True)\n",
    "\n",
    "            i+=1\n",
    "\n",
    "    registro = registro.astype({\n",
    "        'Col_Quit':str, 'Run':int,\n",
    "        'continuous_rotation':float, 'continuous_translation':float, 'discrete_translation':float, 'none':float, 'reflection':float\n",
    "    })  \n",
    "\n",
    "    print('Numero Imagenes:',i)\n",
    "    num_img_cat.append(i)\n",
    "\n",
    "\n",
    "\n",
    "#registro.to_csv(r'/home/gabriel/Desktop/PCA_INE_salarios/registro_'+modelo+'.csv', index = False)\n",
    "print(registro['Col_Quit'].unique())\n",
    "\n",
    "#registro = pd.read_csv('/home/gabriel/Desktop/PCA_INE_sexo/registro.csv')\n",
    "\n",
    "nombres_carps = registro['Col_Quit'].unique() #Nombres de las carpetas donde estan guyardadas las pcas de un tipo\n",
    "num_carps = len(nombres_carps)\n",
    "i = 0\n",
    "\n",
    "for nom in nombres_carps:\n",
    "    if i == 0:\n",
    "        m_probs = np.array(registro.iloc[:num_img_cat[0],2:].mean())\n",
    "        err_probs = np.array(registro.iloc[:num_img_cat[0],2:].std())\n",
    "        nume = str(len(registro.iloc[:num_img_cat[0],2:]))\n",
    "        print(learn.dls.vocab)\n",
    "        print(m_probs)\n",
    "        sims = sims.append(pd.DataFrame([m_probs], columns = sims.columns),ignore_index = True)\n",
    "        errs = errs.append(pd.DataFrame([err_probs/np.sqrt(float(nume))], columns = errs.columns),ignore_index = True)\n",
    "    else:\n",
    "        m_probs = np.array(registro.iloc[num_img_cat[i-1]:num_img_cat[i],2:].mean())\n",
    "        err_probs = np.array(registro.iloc[num_img_cat[i-1]:num_img_cat[i],2:].std())\n",
    "        nume = str(len(registro.iloc[num_img_cat[i-1]:num_img_cat[i],2:]))\n",
    "        print(m_probs)\n",
    "        sims = sims.append(pd.DataFrame([m_probs], columns = sims.columns),ignore_index = True)\n",
    "        errs = errs.append(pd.DataFrame([err_probs/np.sqrt(float(nume))], columns = errs.columns),ignore_index = True)\n",
    "\n",
    "    if nom == '-ninguna-':\n",
    "        tit = 'Promedio de '+nume+' PCAs sin quitar ninguna columna'\n",
    "    else:\n",
    "        tit = 'Promedio de '+nume+' PCAs. ID: '+ nom        \n",
    "\n",
    "    \n",
    "    plt.figure(figsize=(4, 3))\n",
    "    plt.title(tit)\n",
    "    #plt.title('Promedio de '+str(40)+' PCAs sin quitar ninguna columna')\n",
    "    plt.bar(['continuous_rotation', 'continuous_translation', 'discrete_translation', 'none', 'reflection'],\n",
    "            m_probs,yerr = err_probs/np.sqrt(float(nume)), capsize = 5)\n",
    "    plt.xticks(rotation='vertical',fontsize = 12)\n",
    "    plt.ylim([0, 1])\n",
    "    plt.show()\n",
    "    \n",
    "    i+=1"
   ]
  },
  {
   "cell_type": "code",
   "execution_count": null,
   "id": "proved-reynolds",
   "metadata": {},
   "outputs": [],
   "source": []
  }
 ],
 "metadata": {
  "kernelspec": {
   "display_name": "Python 3",
   "language": "python",
   "name": "python3"
  },
  "language_info": {
   "codemirror_mode": {
    "name": "ipython",
    "version": 3
   },
   "file_extension": ".py",
   "mimetype": "text/x-python",
   "name": "python",
   "nbconvert_exporter": "python",
   "pygments_lexer": "ipython3",
   "version": "3.7.9"
  },
  "latex_envs": {
   "LaTeX_envs_menu_present": true,
   "autoclose": false,
   "autocomplete": true,
   "bibliofile": "biblio.bib",
   "cite_by": "apalike",
   "current_citInitial": 1,
   "eqLabelWithNumbers": true,
   "eqNumInitial": 1,
   "hotkeys": {
    "equation": "Ctrl-E",
    "itemize": "Ctrl-I"
   },
   "labels_anchors": false,
   "latex_user_defs": false,
   "report_style_numbering": false,
   "user_envs_cfg": false
  },
  "toc": {
   "base_numbering": 1,
   "nav_menu": {},
   "number_sections": true,
   "sideBar": true,
   "skip_h1_title": false,
   "title_cell": "Table of Contents",
   "title_sidebar": "Contents",
   "toc_cell": false,
   "toc_position": {
    "height": "calc(100% - 180px)",
    "left": "10px",
    "top": "150px",
    "width": "195.085px"
   },
   "toc_section_display": true,
   "toc_window_display": true
  }
 },
 "nbformat": 4,
 "nbformat_minor": 5
}
